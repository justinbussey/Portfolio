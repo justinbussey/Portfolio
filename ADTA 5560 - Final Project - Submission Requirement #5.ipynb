{
 "cells": [
  {
   "cell_type": "markdown",
   "id": "871ea0c7",
   "metadata": {},
   "source": [
    "## BUILD - TRAIN - TEST Recurrent Nerural Networks\n",
    "### Time Series Data with LSTM & Keras"
   ]
  },
  {
   "cell_type": "code",
   "execution_count": 1,
   "id": "044c2bb3",
   "metadata": {},
   "outputs": [],
   "source": [
    "# IMPORT BASIC lIBRARIES\n",
    "\n",
    "import pandas as pd\n",
    "import numpy as np\n",
    "%matplotlib inline\n",
    "import matplotlib.pyplot as plt"
   ]
  },
  {
   "cell_type": "code",
   "execution_count": 2,
   "id": "fd3770a8",
   "metadata": {
    "scrolled": true
   },
   "outputs": [
    {
     "name": "stderr",
     "output_type": "stream",
     "text": [
      "2023-03-06 04:04:27.188637: I tensorflow/core/platform/cpu_feature_guard.cc:193] This TensorFlow binary is optimized with oneAPI Deep Neural Network Library (oneDNN) to use the following CPU instructions in performance-critical operations:  AVX2 FMA\n",
      "To enable them in other operations, rebuild TensorFlow with the appropriate compiler flags.\n",
      "2023-03-06 04:04:27.337672: W tensorflow/compiler/xla/stream_executor/platform/default/dso_loader.cc:64] Could not load dynamic library 'libcudart.so.11.0'; dlerror: libcudart.so.11.0: cannot open shared object file: No such file or directory\n",
      "2023-03-06 04:04:27.337723: I tensorflow/compiler/xla/stream_executor/cuda/cudart_stub.cc:29] Ignore above cudart dlerror if you do not have a GPU set up on your machine.\n",
      "2023-03-06 04:04:28.331324: W tensorflow/compiler/xla/stream_executor/platform/default/dso_loader.cc:64] Could not load dynamic library 'libnvinfer.so.7'; dlerror: libnvinfer.so.7: cannot open shared object file: No such file or directory\n",
      "2023-03-06 04:04:28.331427: W tensorflow/compiler/xla/stream_executor/platform/default/dso_loader.cc:64] Could not load dynamic library 'libnvinfer_plugin.so.7'; dlerror: libnvinfer_plugin.so.7: cannot open shared object file: No such file or directory\n",
      "2023-03-06 04:04:28.331440: W tensorflow/compiler/tf2tensorrt/utils/py_utils.cc:38] TF-TRT Warning: Cannot dlopen some TensorRT libraries. If you would like to use Nvidia GPU with TensorRT, please make sure the missing libraries mentioned above are installed properly.\n"
     ]
    }
   ],
   "source": [
    "# For timeseries RNN LSTM nerual network\n",
    "from tensorflow.keras.models import Sequential\n",
    "from tensorflow.keras.layers import LSTM\n",
    "from tensorflow.keras.layers import Dropout\n",
    "from tensorflow.keras.layers import Dense"
   ]
  },
  {
   "cell_type": "code",
   "execution_count": 3,
   "id": "0b096593",
   "metadata": {},
   "outputs": [],
   "source": [
    "# IMPORT KERAS: TimeseriesGenerator\n",
    "# This class produces time series batches used on training/testing model\n",
    "from tensorflow.keras.preprocessing.sequence import TimeseriesGenerator\n",
    "\n",
    "# IMPORT KERAS: MinMaxScaler\n",
    "# This class is used to preprocess (scale) the data\n",
    "from sklearn.preprocessing import MinMaxScaler"
   ]
  },
  {
   "cell_type": "markdown",
   "id": "f00e9bce",
   "metadata": {},
   "source": [
    "### Data Set: APPL (Apple Stock: 01/01/2014-06/30/2019)"
   ]
  },
  {
   "cell_type": "code",
   "execution_count": 4,
   "id": "589a623f",
   "metadata": {},
   "outputs": [],
   "source": [
    "dir_path_dataset_1 = 'GME1.1.2014_06.30.2019.csv'"
   ]
  },
  {
   "cell_type": "markdown",
   "id": "36fb28f5",
   "metadata": {},
   "source": [
    "### Load Dataset"
   ]
  },
  {
   "cell_type": "code",
   "execution_count": 5,
   "id": "53009688",
   "metadata": {},
   "outputs": [],
   "source": [
    "df_ALL = pd.read_csv(dir_path_dataset_1)"
   ]
  },
  {
   "cell_type": "code",
   "execution_count": 6,
   "id": "22957165",
   "metadata": {},
   "outputs": [
    {
     "data": {
      "text/html": [
       "<div>\n",
       "<style scoped>\n",
       "    .dataframe tbody tr th:only-of-type {\n",
       "        vertical-align: middle;\n",
       "    }\n",
       "\n",
       "    .dataframe tbody tr th {\n",
       "        vertical-align: top;\n",
       "    }\n",
       "\n",
       "    .dataframe thead th {\n",
       "        text-align: right;\n",
       "    }\n",
       "</style>\n",
       "<table border=\"1\" class=\"dataframe\">\n",
       "  <thead>\n",
       "    <tr style=\"text-align: right;\">\n",
       "      <th></th>\n",
       "      <th>Date</th>\n",
       "      <th>Open</th>\n",
       "      <th>High</th>\n",
       "      <th>Low</th>\n",
       "      <th>Close</th>\n",
       "      <th>Adj Close</th>\n",
       "      <th>Volume</th>\n",
       "    </tr>\n",
       "  </thead>\n",
       "  <tbody>\n",
       "    <tr>\n",
       "      <th>0</th>\n",
       "      <td>1/2/2014</td>\n",
       "      <td>12.2875</td>\n",
       "      <td>12.4400</td>\n",
       "      <td>12.0275</td>\n",
       "      <td>12.4125</td>\n",
       "      <td>8.941858</td>\n",
       "      <td>11337200</td>\n",
       "    </tr>\n",
       "    <tr>\n",
       "      <th>1</th>\n",
       "      <td>1/3/2014</td>\n",
       "      <td>12.4275</td>\n",
       "      <td>12.5000</td>\n",
       "      <td>12.2675</td>\n",
       "      <td>12.3100</td>\n",
       "      <td>8.868019</td>\n",
       "      <td>5271200</td>\n",
       "    </tr>\n",
       "    <tr>\n",
       "      <th>2</th>\n",
       "      <td>1/6/2014</td>\n",
       "      <td>12.3100</td>\n",
       "      <td>12.3250</td>\n",
       "      <td>11.9950</td>\n",
       "      <td>12.0425</td>\n",
       "      <td>8.675315</td>\n",
       "      <td>11595600</td>\n",
       "    </tr>\n",
       "    <tr>\n",
       "      <th>3</th>\n",
       "      <td>1/7/2014</td>\n",
       "      <td>12.1125</td>\n",
       "      <td>12.2700</td>\n",
       "      <td>10.9000</td>\n",
       "      <td>11.0350</td>\n",
       "      <td>7.949521</td>\n",
       "      <td>60224000</td>\n",
       "    </tr>\n",
       "    <tr>\n",
       "      <th>4</th>\n",
       "      <td>1/8/2014</td>\n",
       "      <td>10.9800</td>\n",
       "      <td>11.4075</td>\n",
       "      <td>10.9050</td>\n",
       "      <td>11.3375</td>\n",
       "      <td>8.167438</td>\n",
       "      <td>29900800</td>\n",
       "    </tr>\n",
       "  </tbody>\n",
       "</table>\n",
       "</div>"
      ],
      "text/plain": [
       "       Date     Open     High      Low    Close  Adj Close    Volume\n",
       "0  1/2/2014  12.2875  12.4400  12.0275  12.4125   8.941858  11337200\n",
       "1  1/3/2014  12.4275  12.5000  12.2675  12.3100   8.868019   5271200\n",
       "2  1/6/2014  12.3100  12.3250  11.9950  12.0425   8.675315  11595600\n",
       "3  1/7/2014  12.1125  12.2700  10.9000  11.0350   7.949521  60224000\n",
       "4  1/8/2014  10.9800  11.4075  10.9050  11.3375   8.167438  29900800"
      ]
     },
     "execution_count": 6,
     "metadata": {},
     "output_type": "execute_result"
    }
   ],
   "source": [
    "df_ALL.head()"
   ]
  },
  {
   "cell_type": "markdown",
   "id": "6ca4e71d",
   "metadata": {},
   "source": [
    "### Brief Exploratory Data Analysis (EDA)"
   ]
  },
  {
   "cell_type": "code",
   "execution_count": 7,
   "id": "e06df44e",
   "metadata": {},
   "outputs": [
    {
     "data": {
      "text/plain": [
       "(1382, 7)"
      ]
     },
     "execution_count": 7,
     "metadata": {},
     "output_type": "execute_result"
    }
   ],
   "source": [
    "df_ALL.shape"
   ]
  },
  {
   "cell_type": "code",
   "execution_count": 8,
   "id": "3db80857",
   "metadata": {},
   "outputs": [
    {
     "data": {
      "text/plain": [
       "Date          object\n",
       "Open         float64\n",
       "High         float64\n",
       "Low          float64\n",
       "Close        float64\n",
       "Adj Close    float64\n",
       "Volume         int64\n",
       "dtype: object"
      ]
     },
     "execution_count": 8,
     "metadata": {},
     "output_type": "execute_result"
    }
   ],
   "source": [
    "df_ALL.dtypes"
   ]
  },
  {
   "cell_type": "code",
   "execution_count": 9,
   "id": "8e679e45",
   "metadata": {},
   "outputs": [
    {
     "data": {
      "text/html": [
       "<div>\n",
       "<style scoped>\n",
       "    .dataframe tbody tr th:only-of-type {\n",
       "        vertical-align: middle;\n",
       "    }\n",
       "\n",
       "    .dataframe tbody tr th {\n",
       "        vertical-align: top;\n",
       "    }\n",
       "\n",
       "    .dataframe thead th {\n",
       "        text-align: right;\n",
       "    }\n",
       "</style>\n",
       "<table border=\"1\" class=\"dataframe\">\n",
       "  <thead>\n",
       "    <tr style=\"text-align: right;\">\n",
       "      <th></th>\n",
       "      <th>Open</th>\n",
       "      <th>High</th>\n",
       "      <th>Low</th>\n",
       "      <th>Close</th>\n",
       "      <th>Adj Close</th>\n",
       "      <th>Volume</th>\n",
       "    </tr>\n",
       "  </thead>\n",
       "  <tbody>\n",
       "    <tr>\n",
       "      <th>count</th>\n",
       "      <td>1382.000000</td>\n",
       "      <td>1382.000000</td>\n",
       "      <td>1382.000000</td>\n",
       "      <td>1382.000000</td>\n",
       "      <td>1382.000000</td>\n",
       "      <td>1.382000e+03</td>\n",
       "    </tr>\n",
       "    <tr>\n",
       "      <th>mean</th>\n",
       "      <td>6.813578</td>\n",
       "      <td>6.913388</td>\n",
       "      <td>6.706187</td>\n",
       "      <td>6.809173</td>\n",
       "      <td>5.381252</td>\n",
       "      <td>1.262179e+07</td>\n",
       "    </tr>\n",
       "    <tr>\n",
       "      <th>std</th>\n",
       "      <td>2.856218</td>\n",
       "      <td>2.890183</td>\n",
       "      <td>2.815630</td>\n",
       "      <td>2.854559</td>\n",
       "      <td>1.889007</td>\n",
       "      <td>1.159506e+07</td>\n",
       "    </tr>\n",
       "    <tr>\n",
       "      <th>min</th>\n",
       "      <td>1.245000</td>\n",
       "      <td>1.282500</td>\n",
       "      <td>1.177500</td>\n",
       "      <td>1.255000</td>\n",
       "      <td>1.255000</td>\n",
       "      <td>2.984400e+06</td>\n",
       "    </tr>\n",
       "    <tr>\n",
       "      <th>25%</th>\n",
       "      <td>4.108750</td>\n",
       "      <td>4.188125</td>\n",
       "      <td>4.044375</td>\n",
       "      <td>4.108125</td>\n",
       "      <td>3.743756</td>\n",
       "      <td>7.210900e+06</td>\n",
       "    </tr>\n",
       "    <tr>\n",
       "      <th>50%</th>\n",
       "      <td>6.531250</td>\n",
       "      <td>6.613750</td>\n",
       "      <td>6.423750</td>\n",
       "      <td>6.515000</td>\n",
       "      <td>5.199118</td>\n",
       "      <td>9.724200e+06</td>\n",
       "    </tr>\n",
       "    <tr>\n",
       "      <th>75%</th>\n",
       "      <td>9.492500</td>\n",
       "      <td>9.644375</td>\n",
       "      <td>9.321875</td>\n",
       "      <td>9.493750</td>\n",
       "      <td>6.980447</td>\n",
       "      <td>1.404310e+07</td>\n",
       "    </tr>\n",
       "    <tr>\n",
       "      <th>max</th>\n",
       "      <td>12.427500</td>\n",
       "      <td>12.500000</td>\n",
       "      <td>12.267500</td>\n",
       "      <td>12.412500</td>\n",
       "      <td>8.980933</td>\n",
       "      <td>1.574168e+08</td>\n",
       "    </tr>\n",
       "  </tbody>\n",
       "</table>\n",
       "</div>"
      ],
      "text/plain": [
       "              Open         High          Low        Close    Adj Close  \\\n",
       "count  1382.000000  1382.000000  1382.000000  1382.000000  1382.000000   \n",
       "mean      6.813578     6.913388     6.706187     6.809173     5.381252   \n",
       "std       2.856218     2.890183     2.815630     2.854559     1.889007   \n",
       "min       1.245000     1.282500     1.177500     1.255000     1.255000   \n",
       "25%       4.108750     4.188125     4.044375     4.108125     3.743756   \n",
       "50%       6.531250     6.613750     6.423750     6.515000     5.199118   \n",
       "75%       9.492500     9.644375     9.321875     9.493750     6.980447   \n",
       "max      12.427500    12.500000    12.267500    12.412500     8.980933   \n",
       "\n",
       "             Volume  \n",
       "count  1.382000e+03  \n",
       "mean   1.262179e+07  \n",
       "std    1.159506e+07  \n",
       "min    2.984400e+06  \n",
       "25%    7.210900e+06  \n",
       "50%    9.724200e+06  \n",
       "75%    1.404310e+07  \n",
       "max    1.574168e+08  "
      ]
     },
     "execution_count": 9,
     "metadata": {},
     "output_type": "execute_result"
    }
   ],
   "source": [
    "# Satistics Summary\n",
    "df_ALL.describe()"
   ]
  },
  {
   "cell_type": "markdown",
   "id": "1a7df49b",
   "metadata": {},
   "source": [
    "### Keep Only \"Close\" (for Closing Price) and Filter Out All Other Atributes\n",
    "#### Notes: the research focuses only on the closing price"
   ]
  },
  {
   "cell_type": "code",
   "execution_count": 10,
   "id": "bf1217f6",
   "metadata": {},
   "outputs": [],
   "source": [
    "df = df_ALL.iloc[:,4:5]"
   ]
  },
  {
   "cell_type": "code",
   "execution_count": 11,
   "id": "2c21f8b4",
   "metadata": {},
   "outputs": [
    {
     "data": {
      "text/html": [
       "<div>\n",
       "<style scoped>\n",
       "    .dataframe tbody tr th:only-of-type {\n",
       "        vertical-align: middle;\n",
       "    }\n",
       "\n",
       "    .dataframe tbody tr th {\n",
       "        vertical-align: top;\n",
       "    }\n",
       "\n",
       "    .dataframe thead th {\n",
       "        text-align: right;\n",
       "    }\n",
       "</style>\n",
       "<table border=\"1\" class=\"dataframe\">\n",
       "  <thead>\n",
       "    <tr style=\"text-align: right;\">\n",
       "      <th></th>\n",
       "      <th>Close</th>\n",
       "    </tr>\n",
       "  </thead>\n",
       "  <tbody>\n",
       "    <tr>\n",
       "      <th>0</th>\n",
       "      <td>12.4125</td>\n",
       "    </tr>\n",
       "    <tr>\n",
       "      <th>1</th>\n",
       "      <td>12.3100</td>\n",
       "    </tr>\n",
       "    <tr>\n",
       "      <th>2</th>\n",
       "      <td>12.0425</td>\n",
       "    </tr>\n",
       "    <tr>\n",
       "      <th>3</th>\n",
       "      <td>11.0350</td>\n",
       "    </tr>\n",
       "    <tr>\n",
       "      <th>4</th>\n",
       "      <td>11.3375</td>\n",
       "    </tr>\n",
       "  </tbody>\n",
       "</table>\n",
       "</div>"
      ],
      "text/plain": [
       "     Close\n",
       "0  12.4125\n",
       "1  12.3100\n",
       "2  12.0425\n",
       "3  11.0350\n",
       "4  11.3375"
      ]
     },
     "execution_count": 11,
     "metadata": {},
     "output_type": "execute_result"
    }
   ],
   "source": [
    "df.head()"
   ]
  },
  {
   "cell_type": "code",
   "execution_count": 12,
   "id": "a6ab603d",
   "metadata": {},
   "outputs": [
    {
     "data": {
      "text/plain": [
       "<AxesSubplot:>"
      ]
     },
     "execution_count": 12,
     "metadata": {},
     "output_type": "execute_result"
    },
    {
     "data": {
      "image/png": "[encoded data removed]",
      "text/plain": [
       "<Figure size 1200x800 with 1 Axes>"
      ]
     },
     "metadata": {},
     "output_type": "display_data"
    }
   ],
   "source": [
    "df.plot(figsize=(12,8))"
   ]
  },
  {
   "cell_type": "markdown",
   "id": "5d0e13be",
   "metadata": {},
   "source": [
    "### Length of Input Time Series - Number of Input Time Steps "
   ]
  },
  {
   "cell_type": "code",
   "execution_count": 13,
   "id": "2dfef3f1",
   "metadata": {},
   "outputs": [],
   "source": [
    "# Set the length of the input sequence \n",
    "# i.e., the number of time series steps that are used to predict the future one\n",
    "# Currently use 70 historical data points to predict the next one\n",
    "# It means that 70 consecutive closing prices will be used to predict the next one\n",
    "\n",
    "length80 = 80"
   ]
  },
  {
   "cell_type": "code",
   "execution_count": 14,
   "id": "f01389eb",
   "metadata": {},
   "outputs": [
    {
     "data": {
      "text/plain": [
       "80"
      ]
     },
     "execution_count": 14,
     "metadata": {},
     "output_type": "execute_result"
    }
   ],
   "source": [
    "length80"
   ]
  },
  {
   "cell_type": "markdown",
   "id": "10b8c99e",
   "metadata": {},
   "source": [
    "### Time Series Dataset: Train / Test Split"
   ]
  },
  {
   "cell_type": "code",
   "execution_count": 15,
   "id": "e8918396",
   "metadata": {},
   "outputs": [
    {
     "data": {
      "text/plain": [
       "1382"
      ]
     },
     "execution_count": 15,
     "metadata": {},
     "output_type": "execute_result"
    }
   ],
   "source": [
    "len(df)"
   ]
  },
  {
   "cell_type": "code",
   "execution_count": 16,
   "id": "6a79972c",
   "metadata": {},
   "outputs": [],
   "source": [
    "# Set percentage of data used for testing\n",
    "\n",
    "test_percent = 0.3"
   ]
  },
  {
   "cell_type": "code",
   "execution_count": 17,
   "id": "f5853fdd",
   "metadata": {},
   "outputs": [
    {
     "data": {
      "text/plain": [
       "414.59999999999997"
      ]
     },
     "execution_count": 17,
     "metadata": {},
     "output_type": "execute_result"
    }
   ],
   "source": [
    "# Number of data points reserved for testing the model\n",
    "# 20% of the original dataset\n",
    "\n",
    "len(df)*test_percent "
   ]
  },
  {
   "cell_type": "markdown",
   "id": "36bccd3f",
   "metadata": {},
   "source": [
    "### Split Data--> Train/Test "
   ]
  },
  {
   "cell_type": "code",
   "execution_count": 18,
   "id": "a4ad4676",
   "metadata": {},
   "outputs": [
    {
     "data": {
      "text/plain": [
       "415.0"
      ]
     },
     "execution_count": 18,
     "metadata": {},
     "output_type": "execute_result"
    }
   ],
   "source": [
    "# Need to find the length (number of data points) of the testing dataset\n",
    "# It has been found (above) that around 205 data points are used for testing\n",
    "\n",
    "test_length = np.round(len(df)*test_percent)\n",
    "test_length"
   ]
  },
  {
   "cell_type": "code",
   "execution_count": 19,
   "id": "c1ea3ced",
   "metadata": {},
   "outputs": [
    {
     "data": {
      "text/plain": [
       "967"
      ]
     },
     "execution_count": 19,
     "metadata": {},
     "output_type": "execute_result"
    }
   ],
   "source": [
    "# The testing data set starts at this index\n",
    "\n",
    "# test_start_index = int(len(df) - test_length)\n",
    "split_index = int(len(df) - test_length)\n",
    "\n",
    "split_index"
   ]
  },
  {
   "cell_type": "code",
   "execution_count": 20,
   "id": "e01b4de2",
   "metadata": {},
   "outputs": [],
   "source": [
    "# Create separate training / testing datasets\n",
    "\n",
    "# Training dataset: All the indices from start to split_index\n",
    "# (excluding split_index)\n",
    "data_train = df.iloc[: split_index]\n",
    "\n",
    "# Testing dataset:\n",
    "# --> All the indices from (split_index - length80) to the end of the dataframe\n",
    "# --> split_index - length80: Need the last 80 historical data points (belong to the data_train)\n",
    "#     to predict the first data point of the data_test\n",
    "\n",
    "data_test = df.iloc[split_index - length80 :]\n"
   ]
  },
  {
   "cell_type": "code",
   "execution_count": 21,
   "id": "9ca1d35f",
   "metadata": {},
   "outputs": [
    {
     "data": {
      "text/html": [
       "<div>\n",
       "<style scoped>\n",
       "    .dataframe tbody tr th:only-of-type {\n",
       "        vertical-align: middle;\n",
       "    }\n",
       "\n",
       "    .dataframe tbody tr th {\n",
       "        vertical-align: top;\n",
       "    }\n",
       "\n",
       "    .dataframe thead th {\n",
       "        text-align: right;\n",
       "    }\n",
       "</style>\n",
       "<table border=\"1\" class=\"dataframe\">\n",
       "  <thead>\n",
       "    <tr style=\"text-align: right;\">\n",
       "      <th></th>\n",
       "      <th>Close</th>\n",
       "    </tr>\n",
       "  </thead>\n",
       "  <tbody>\n",
       "    <tr>\n",
       "      <th>0</th>\n",
       "      <td>12.4125</td>\n",
       "    </tr>\n",
       "    <tr>\n",
       "      <th>1</th>\n",
       "      <td>12.3100</td>\n",
       "    </tr>\n",
       "    <tr>\n",
       "      <th>2</th>\n",
       "      <td>12.0425</td>\n",
       "    </tr>\n",
       "    <tr>\n",
       "      <th>3</th>\n",
       "      <td>11.0350</td>\n",
       "    </tr>\n",
       "    <tr>\n",
       "      <th>4</th>\n",
       "      <td>11.3375</td>\n",
       "    </tr>\n",
       "  </tbody>\n",
       "</table>\n",
       "</div>"
      ],
      "text/plain": [
       "     Close\n",
       "0  12.4125\n",
       "1  12.3100\n",
       "2  12.0425\n",
       "3  11.0350\n",
       "4  11.3375"
      ]
     },
     "execution_count": 21,
     "metadata": {},
     "output_type": "execute_result"
    }
   ],
   "source": [
    "data_train.head(5)"
   ]
  },
  {
   "cell_type": "code",
   "execution_count": 22,
   "id": "1d589d9a",
   "metadata": {},
   "outputs": [
    {
     "data": {
      "text/html": [
       "<div>\n",
       "<style scoped>\n",
       "    .dataframe tbody tr th:only-of-type {\n",
       "        vertical-align: middle;\n",
       "    }\n",
       "\n",
       "    .dataframe tbody tr th {\n",
       "        vertical-align: top;\n",
       "    }\n",
       "\n",
       "    .dataframe thead th {\n",
       "        text-align: right;\n",
       "    }\n",
       "</style>\n",
       "<table border=\"1\" class=\"dataframe\">\n",
       "  <thead>\n",
       "    <tr style=\"text-align: right;\">\n",
       "      <th></th>\n",
       "      <th>Close</th>\n",
       "    </tr>\n",
       "  </thead>\n",
       "  <tbody>\n",
       "    <tr>\n",
       "      <th>962</th>\n",
       "      <td>4.8775</td>\n",
       "    </tr>\n",
       "    <tr>\n",
       "      <th>963</th>\n",
       "      <td>4.8350</td>\n",
       "    </tr>\n",
       "    <tr>\n",
       "      <th>964</th>\n",
       "      <td>4.6925</td>\n",
       "    </tr>\n",
       "    <tr>\n",
       "      <th>965</th>\n",
       "      <td>4.6725</td>\n",
       "    </tr>\n",
       "    <tr>\n",
       "      <th>966</th>\n",
       "      <td>4.6500</td>\n",
       "    </tr>\n",
       "  </tbody>\n",
       "</table>\n",
       "</div>"
      ],
      "text/plain": [
       "      Close\n",
       "962  4.8775\n",
       "963  4.8350\n",
       "964  4.6925\n",
       "965  4.6725\n",
       "966  4.6500"
      ]
     },
     "execution_count": 22,
     "metadata": {},
     "output_type": "execute_result"
    }
   ],
   "source": [
    "data_train.tail()"
   ]
  },
  {
   "cell_type": "code",
   "execution_count": 23,
   "id": "a9d1f81d",
   "metadata": {},
   "outputs": [
    {
     "data": {
      "text/html": [
       "<div>\n",
       "<style scoped>\n",
       "    .dataframe tbody tr th:only-of-type {\n",
       "        vertical-align: middle;\n",
       "    }\n",
       "\n",
       "    .dataframe tbody tr th {\n",
       "        vertical-align: top;\n",
       "    }\n",
       "\n",
       "    .dataframe thead th {\n",
       "        text-align: right;\n",
       "    }\n",
       "</style>\n",
       "<table border=\"1\" class=\"dataframe\">\n",
       "  <thead>\n",
       "    <tr style=\"text-align: right;\">\n",
       "      <th></th>\n",
       "      <th>Close</th>\n",
       "    </tr>\n",
       "  </thead>\n",
       "  <tbody>\n",
       "    <tr>\n",
       "      <th>887</th>\n",
       "      <td>5.2475</td>\n",
       "    </tr>\n",
       "    <tr>\n",
       "      <th>888</th>\n",
       "      <td>5.2900</td>\n",
       "    </tr>\n",
       "    <tr>\n",
       "      <th>889</th>\n",
       "      <td>5.2550</td>\n",
       "    </tr>\n",
       "    <tr>\n",
       "      <th>890</th>\n",
       "      <td>5.3200</td>\n",
       "    </tr>\n",
       "    <tr>\n",
       "      <th>891</th>\n",
       "      <td>5.2725</td>\n",
       "    </tr>\n",
       "  </tbody>\n",
       "</table>\n",
       "</div>"
      ],
      "text/plain": [
       "      Close\n",
       "887  5.2475\n",
       "888  5.2900\n",
       "889  5.2550\n",
       "890  5.3200\n",
       "891  5.2725"
      ]
     },
     "execution_count": 23,
     "metadata": {},
     "output_type": "execute_result"
    }
   ],
   "source": [
    "data_test.head(5)"
   ]
  },
  {
   "cell_type": "code",
   "execution_count": 24,
   "id": "7af5b333",
   "metadata": {},
   "outputs": [
    {
     "data": {
      "text/html": [
       "<div>\n",
       "<style scoped>\n",
       "    .dataframe tbody tr th:only-of-type {\n",
       "        vertical-align: middle;\n",
       "    }\n",
       "\n",
       "    .dataframe tbody tr th {\n",
       "        vertical-align: top;\n",
       "    }\n",
       "\n",
       "    .dataframe thead th {\n",
       "        text-align: right;\n",
       "    }\n",
       "</style>\n",
       "<table border=\"1\" class=\"dataframe\">\n",
       "  <thead>\n",
       "    <tr style=\"text-align: right;\">\n",
       "      <th></th>\n",
       "      <th>Close</th>\n",
       "    </tr>\n",
       "  </thead>\n",
       "  <tbody>\n",
       "    <tr>\n",
       "      <th>1377</th>\n",
       "      <td>1.3425</td>\n",
       "    </tr>\n",
       "    <tr>\n",
       "      <th>1378</th>\n",
       "      <td>1.3625</td>\n",
       "    </tr>\n",
       "    <tr>\n",
       "      <th>1379</th>\n",
       "      <td>1.3675</td>\n",
       "    </tr>\n",
       "    <tr>\n",
       "      <th>1380</th>\n",
       "      <td>1.3850</td>\n",
       "    </tr>\n",
       "    <tr>\n",
       "      <th>1381</th>\n",
       "      <td>1.3675</td>\n",
       "    </tr>\n",
       "  </tbody>\n",
       "</table>\n",
       "</div>"
      ],
      "text/plain": [
       "       Close\n",
       "1377  1.3425\n",
       "1378  1.3625\n",
       "1379  1.3675\n",
       "1380  1.3850\n",
       "1381  1.3675"
      ]
     },
     "execution_count": 24,
     "metadata": {},
     "output_type": "execute_result"
    }
   ],
   "source": [
    "data_test.tail()"
   ]
  },
  {
   "cell_type": "markdown",
   "id": "ee6a8176",
   "metadata": {},
   "source": [
    "### Normalize Data (Scale it into the range [0,1])"
   ]
  },
  {
   "cell_type": "code",
   "execution_count": 25,
   "id": "2147a72a",
   "metadata": {},
   "outputs": [],
   "source": [
    "# Create a MinMaxScaler to normalize the data\n",
    "scaler = MinMaxScaler()"
   ]
  },
  {
   "cell_type": "code",
   "execution_count": 26,
   "id": "32f8b2d6",
   "metadata": {},
   "outputs": [
    {
     "data": {
      "text/plain": [
       "MinMaxScaler()"
      ]
     },
     "execution_count": 26,
     "metadata": {},
     "output_type": "execute_result"
    }
   ],
   "source": [
    "# IGNORE the warning: Just cponverting the data to flaots\n",
    "# Only scale the training data - NOT scale testing data\n",
    "\n",
    "#Train the scaler to perform the normalization\n",
    "scaler.fit(data_train)"
   ]
  },
  {
   "cell_type": "code",
   "execution_count": 27,
   "id": "edc9704c",
   "metadata": {},
   "outputs": [],
   "source": [
    "# Normalize the training dataset\n",
    "normalized_train = scaler.transform(data_train)\n",
    "\n",
    "# Normalize the testing dataset\n",
    "normalized_test = scaler.transform(data_test)"
   ]
  },
  {
   "cell_type": "markdown",
   "id": "18dac90d",
   "metadata": {},
   "source": [
    "### Create TimseriesGenerator for Training "
   ]
  },
  {
   "cell_type": "code",
   "execution_count": 28,
   "id": "d295afde",
   "metadata": {},
   "outputs": [],
   "source": [
    "# TimeseriesGenerator: Generate time series batches for training/testing\n",
    "\n",
    "# Set the length of the input sequence as above\n",
    "# length80\n",
    "\n",
    "# batch_size: number of time series samples in each batch\n",
    "# Sample: A single time series input that has 60 historical data points\n",
    "batch_size33 = 33\n",
    "\n",
    "# Create a TimeSeriesGenerator for training: train_tsGenerator \n",
    "# --> This time series generator produce time series batches used to train the model\n",
    "# TimeseriesGenerator(inputs, outputs, length, batch_size)\n",
    "# --> Normally: INPUTS & OUTPUTS are the same dataset during training & testing/validation\n",
    "\n",
    "train_tsGenerator60 = TimeseriesGenerator(normalized_train, normalized_train, length=length80, batch_size=batch_size33)"
   ]
  },
  {
   "cell_type": "code",
   "execution_count": 29,
   "id": "c5c899d9",
   "metadata": {},
   "outputs": [
    {
     "data": {
      "text/plain": [
       "967"
      ]
     },
     "execution_count": 29,
     "metadata": {},
     "output_type": "execute_result"
    }
   ],
   "source": [
    "len(normalized_train)"
   ]
  },
  {
   "cell_type": "code",
   "execution_count": 30,
   "id": "05acd66e",
   "metadata": {},
   "outputs": [
    {
     "data": {
      "text/plain": [
       "27"
      ]
     },
     "execution_count": 30,
     "metadata": {},
     "output_type": "execute_result"
    }
   ],
   "source": [
    "len(train_tsGenerator60)"
   ]
  },
  {
   "cell_type": "code",
   "execution_count": 31,
   "id": "ebc06214",
   "metadata": {},
   "outputs": [],
   "source": [
    "# What does the first batch look like?\n",
    "X,y = train_tsGenerator60[0]"
   ]
  },
  {
   "cell_type": "code",
   "execution_count": 32,
   "id": "5014f723",
   "metadata": {},
   "outputs": [],
   "source": [
    "# print(X)"
   ]
  },
  {
   "cell_type": "code",
   "execution_count": 33,
   "id": "1edf8ac4",
   "metadata": {},
   "outputs": [],
   "source": [
    "# print(y)"
   ]
  },
  {
   "cell_type": "markdown",
   "id": "fbdd41c3",
   "metadata": {},
   "source": [
    "## Build, Train, and Test Model\n",
    "### Build LSTM Model "
   ]
  },
  {
   "cell_type": "code",
   "execution_count": 34,
   "id": "ff805830",
   "metadata": {},
   "outputs": [],
   "source": [
    "# Set number of features\n",
    "# Feature: Attribute/Variable of the data set - used as predictors\n",
    "\n",
    "# Only using one feature: Close price \n",
    "n_features = 1"
   ]
  },
  {
   "cell_type": "code",
   "execution_count": 35,
   "id": "0c13a501",
   "metadata": {},
   "outputs": [
    {
     "name": "stderr",
     "output_type": "stream",
     "text": [
      "2023-03-06 04:04:29.851148: W tensorflow/compiler/xla/stream_executor/platform/default/dso_loader.cc:64] Could not load dynamic library 'libcuda.so.1'; dlerror: libcuda.so.1: cannot open shared object file: No such file or directory\n",
      "2023-03-06 04:04:29.851188: W tensorflow/compiler/xla/stream_executor/cuda/cuda_driver.cc:265] failed call to cuInit: UNKNOWN ERROR (303)\n",
      "2023-03-06 04:04:29.851217: I tensorflow/compiler/xla/stream_executor/cuda/cuda_diagnostics.cc:156] kernel driver does not appear to be running on this host (jbinstance2): /proc/driver/nvidia/version does not exist\n",
      "2023-03-06 04:04:29.851488: I tensorflow/core/platform/cpu_feature_guard.cc:193] This TensorFlow binary is optimized with oneAPI Deep Neural Network Library (oneDNN) to use the following CPU instructions in performance-critical operations:  AVX2 FMA\n",
      "To enable them in other operations, rebuild TensorFlow with the appropriate compiler flags.\n"
     ]
    }
   ],
   "source": [
    "# define model\n",
    "model = Sequential()\n",
    "\n",
    "# Add an LSTM layer\n",
    "# This layer has 70 LSTM cells\n",
    "# Activation function: relu\n",
    "# MUST: return_sequences=True\n",
    "# --> Because of multiple LSTM layers: the layers are stacked\n",
    "# --> Outputs = inputs of the next LSTM layer\n",
    "model.add(LSTM(70, activation='relu', return_sequences=True, input_shape=(length80, n_features)))\n",
    "\n",
    "# Drop layer\n",
    "model.add(Dropout(0.4))\n",
    "\n",
    "# Add 2nd LSTM layer\n",
    "# Must: return_sequences=True\n",
    "# --> Because of multiple LSTM layers: the layers are stacked\n",
    "# --> Outputs = inputs of the next LSTM layer\n",
    "model.add(LSTM(units=70, activation='relu', return_sequences=True))\n",
    "\n",
    "# Drop layer\n",
    "model.add(Dropout(0.4))\n",
    "\n",
    "# Add 3rd LSTM layer\n",
    "model.add(LSTM(units=70, activation='relu'))\n",
    "\n",
    "# Add a FC (fully connected) layer for the final prediction\n",
    "model.add(Dense(1))"
   ]
  },
  {
   "attachments": {
    "Screenshot%202023-02-18%20163152.jpg": {
     "image/jpeg": "[encoded data removed]"
    }
   },
   "cell_type": "markdown",
   "id": "aea3cb24",
   "metadata": {},
   "source": [
    "![Screenshot%202023-02-18%20163152.jpg](attachment:Screenshot%202023-02-18%20163152.jpg)"
   ]
  },
  {
   "cell_type": "markdown",
   "id": "ace479bc",
   "metadata": {},
   "source": [
    "### Compile Model"
   ]
  },
  {
   "cell_type": "code",
   "execution_count": 36,
   "id": "e09451d3",
   "metadata": {},
   "outputs": [
    {
     "name": "stdout",
     "output_type": "stream",
     "text": [
      "Model: \"sequential\"\n",
      "_________________________________________________________________\n",
      " Layer (type)                Output Shape              Param #   \n",
      "=================================================================\n",
      " lstm (LSTM)                 (None, 80, 70)            20160     \n",
      "                                                                 \n",
      " dropout (Dropout)           (None, 80, 70)            0         \n",
      "                                                                 \n",
      " lstm_1 (LSTM)               (None, 80, 70)            39480     \n",
      "                                                                 \n",
      " dropout_1 (Dropout)         (None, 80, 70)            0         \n",
      "                                                                 \n",
      " lstm_2 (LSTM)               (None, 70)                39480     \n",
      "                                                                 \n",
      " dense (Dense)               (None, 1)                 71        \n",
      "                                                                 \n",
      "=================================================================\n",
      "Total params: 99,191\n",
      "Trainable params: 99,191\n",
      "Non-trainable params: 0\n",
      "_________________________________________________________________\n"
     ]
    }
   ],
   "source": [
    "# Compile the model\n",
    "model.compile(optimizer='adam', loss='mse')\n",
    "\n",
    "model.summary()"
   ]
  },
  {
   "cell_type": "code",
   "execution_count": 37,
   "id": "4a786348",
   "metadata": {},
   "outputs": [
    {
     "name": "stdout",
     "output_type": "stream",
     "text": [
      "Epoch 1/130\n"
     ]
    },
    {
     "name": "stderr",
     "output_type": "stream",
     "text": [
      "/opt/conda/lib/python3.7/site-packages/ipykernel_launcher.py:3: UserWarning: `Model.fit_generator` is deprecated and will be removed in a future version. Please use `Model.fit`, which supports generators.\n",
      "  This is separate from the ipykernel package so we can avoid doing imports until\n"
     ]
    },
    {
     "name": "stdout",
     "output_type": "stream",
     "text": [
      "27/27 [==============================] - 6s 98ms/step - loss: 0.0883\n",
      "Epoch 2/130\n",
      "27/27 [==============================] - 3s 99ms/step - loss: 0.0340\n",
      "Epoch 3/130\n",
      "27/27 [==============================] - 3s 96ms/step - loss: 0.0113\n",
      "Epoch 4/130\n",
      "27/27 [==============================] - 3s 96ms/step - loss: 0.0099\n",
      "Epoch 5/130\n",
      "27/27 [==============================] - 3s 98ms/step - loss: 0.0069\n",
      "Epoch 6/130\n",
      "27/27 [==============================] - 3s 98ms/step - loss: 0.0078\n",
      "Epoch 7/130\n",
      "27/27 [==============================] - 3s 100ms/step - loss: 0.0081\n",
      "Epoch 8/130\n",
      "27/27 [==============================] - 3s 97ms/step - loss: 0.0070\n",
      "Epoch 9/130\n",
      "27/27 [==============================] - 3s 99ms/step - loss: 0.0061\n",
      "Epoch 10/130\n",
      "27/27 [==============================] - 3s 98ms/step - loss: 0.0077\n",
      "Epoch 11/130\n",
      "27/27 [==============================] - 5s 182ms/step - loss: 0.0071\n",
      "Epoch 12/130\n",
      "27/27 [==============================] - 3s 101ms/step - loss: 0.0056\n",
      "Epoch 13/130\n",
      "27/27 [==============================] - 3s 99ms/step - loss: 0.0062\n",
      "Epoch 14/130\n",
      "27/27 [==============================] - 3s 98ms/step - loss: 0.0060\n",
      "Epoch 15/130\n",
      "27/27 [==============================] - 3s 96ms/step - loss: 0.0054\n",
      "Epoch 16/130\n",
      "27/27 [==============================] - 3s 98ms/step - loss: 0.0052\n",
      "Epoch 17/130\n",
      "27/27 [==============================] - 3s 98ms/step - loss: 0.0053\n",
      "Epoch 18/130\n",
      "27/27 [==============================] - 3s 99ms/step - loss: 0.0049\n",
      "Epoch 19/130\n",
      "27/27 [==============================] - 3s 100ms/step - loss: 0.0051\n",
      "Epoch 20/130\n",
      "27/27 [==============================] - 3s 97ms/step - loss: 0.0056\n",
      "Epoch 21/130\n",
      "27/27 [==============================] - 3s 99ms/step - loss: 0.0042\n",
      "Epoch 22/130\n",
      "27/27 [==============================] - 3s 99ms/step - loss: 0.0059\n",
      "Epoch 23/130\n",
      "27/27 [==============================] - 3s 99ms/step - loss: 0.0046\n",
      "Epoch 24/130\n",
      "27/27 [==============================] - 3s 99ms/step - loss: 0.0043\n",
      "Epoch 25/130\n",
      "27/27 [==============================] - 3s 98ms/step - loss: 0.0050\n",
      "Epoch 26/130\n",
      "27/27 [==============================] - 3s 98ms/step - loss: 0.0050\n",
      "Epoch 27/130\n",
      "27/27 [==============================] - 3s 97ms/step - loss: 0.0045\n",
      "Epoch 28/130\n",
      "27/27 [==============================] - 3s 98ms/step - loss: 0.0038\n",
      "Epoch 29/130\n",
      "27/27 [==============================] - 3s 98ms/step - loss: 0.0043\n",
      "Epoch 30/130\n",
      "27/27 [==============================] - 3s 97ms/step - loss: 0.0044\n",
      "Epoch 31/130\n",
      "27/27 [==============================] - 5s 188ms/step - loss: 0.0063\n",
      "Epoch 32/130\n",
      "27/27 [==============================] - 3s 98ms/step - loss: 0.0091\n",
      "Epoch 33/130\n",
      "27/27 [==============================] - 3s 99ms/step - loss: 0.0041\n",
      "Epoch 34/130\n",
      "27/27 [==============================] - 3s 98ms/step - loss: 0.0042\n",
      "Epoch 35/130\n",
      "27/27 [==============================] - 3s 97ms/step - loss: 0.0037\n",
      "Epoch 36/130\n",
      "27/27 [==============================] - 3s 97ms/step - loss: 0.0034\n",
      "Epoch 37/130\n",
      "27/27 [==============================] - 3s 97ms/step - loss: 0.0052\n",
      "Epoch 38/130\n",
      "27/27 [==============================] - 3s 96ms/step - loss: 0.0044\n",
      "Epoch 39/130\n",
      "27/27 [==============================] - 3s 97ms/step - loss: 0.0039\n",
      "Epoch 40/130\n",
      "27/27 [==============================] - 3s 99ms/step - loss: 0.0031\n",
      "Epoch 41/130\n",
      "27/27 [==============================] - 3s 97ms/step - loss: 0.0032\n",
      "Epoch 42/130\n",
      "27/27 [==============================] - 3s 98ms/step - loss: 0.0035\n",
      "Epoch 43/130\n",
      "27/27 [==============================] - 3s 98ms/step - loss: 0.0038\n",
      "Epoch 44/130\n",
      "27/27 [==============================] - 3s 96ms/step - loss: 0.0033\n",
      "Epoch 45/130\n",
      "27/27 [==============================] - 3s 98ms/step - loss: 0.0030\n",
      "Epoch 46/130\n",
      "27/27 [==============================] - 3s 98ms/step - loss: 0.0034\n",
      "Epoch 47/130\n",
      "27/27 [==============================] - 3s 98ms/step - loss: 0.0048\n",
      "Epoch 48/130\n",
      "27/27 [==============================] - 3s 98ms/step - loss: 0.0040\n",
      "Epoch 49/130\n",
      "27/27 [==============================] - 3s 95ms/step - loss: 0.0042\n",
      "Epoch 50/130\n",
      "27/27 [==============================] - 3s 97ms/step - loss: 0.0040\n",
      "Epoch 51/130\n",
      "27/27 [==============================] - 5s 187ms/step - loss: 0.0041\n",
      "Epoch 52/130\n",
      "27/27 [==============================] - 3s 99ms/step - loss: 0.0041\n",
      "Epoch 53/130\n",
      "27/27 [==============================] - 3s 97ms/step - loss: 0.0030\n",
      "Epoch 54/130\n",
      "27/27 [==============================] - 3s 98ms/step - loss: 0.0029\n",
      "Epoch 55/130\n",
      "27/27 [==============================] - 3s 96ms/step - loss: 0.0027\n",
      "Epoch 56/130\n",
      "27/27 [==============================] - 3s 98ms/step - loss: 0.0030\n",
      "Epoch 57/130\n",
      "27/27 [==============================] - 3s 98ms/step - loss: 0.0031\n",
      "Epoch 58/130\n",
      "27/27 [==============================] - 3s 98ms/step - loss: 0.0026\n",
      "Epoch 59/130\n",
      "27/27 [==============================] - 3s 98ms/step - loss: 0.0028\n",
      "Epoch 60/130\n",
      "27/27 [==============================] - 3s 98ms/step - loss: 0.0028\n",
      "Epoch 61/130\n",
      "27/27 [==============================] - 3s 98ms/step - loss: 0.0029\n",
      "Epoch 62/130\n",
      "27/27 [==============================] - 3s 97ms/step - loss: 0.0041\n",
      "Epoch 63/130\n",
      "27/27 [==============================] - 3s 97ms/step - loss: 0.0030\n",
      "Epoch 64/130\n",
      "27/27 [==============================] - 3s 98ms/step - loss: 0.0027\n",
      "Epoch 65/130\n",
      "27/27 [==============================] - 3s 98ms/step - loss: 0.0032\n",
      "Epoch 66/130\n",
      "27/27 [==============================] - 3s 97ms/step - loss: 0.0032\n",
      "Epoch 67/130\n",
      "27/27 [==============================] - 3s 98ms/step - loss: 0.0028\n",
      "Epoch 68/130\n",
      "27/27 [==============================] - 3s 97ms/step - loss: 0.0030\n",
      "Epoch 69/130\n",
      "27/27 [==============================] - 3s 99ms/step - loss: 0.0031\n",
      "Epoch 70/130\n",
      "27/27 [==============================] - 3s 98ms/step - loss: 0.0028\n",
      "Epoch 71/130\n",
      "27/27 [==============================] - 3s 126ms/step - loss: 0.0027\n",
      "Epoch 72/130\n",
      "27/27 [==============================] - 4s 146ms/step - loss: 0.0026\n",
      "Epoch 73/130\n",
      "27/27 [==============================] - 3s 99ms/step - loss: 0.0027\n",
      "Epoch 74/130\n",
      "27/27 [==============================] - 3s 99ms/step - loss: 0.0025\n",
      "Epoch 75/130\n",
      "27/27 [==============================] - 3s 97ms/step - loss: 0.0024\n",
      "Epoch 76/130\n",
      "27/27 [==============================] - 3s 97ms/step - loss: 0.0028\n",
      "Epoch 77/130\n",
      "27/27 [==============================] - 3s 97ms/step - loss: 0.0026\n",
      "Epoch 78/130\n",
      "27/27 [==============================] - 3s 97ms/step - loss: 0.0023\n",
      "Epoch 79/130\n",
      "27/27 [==============================] - 3s 98ms/step - loss: 0.0027\n",
      "Epoch 80/130\n",
      "27/27 [==============================] - 3s 98ms/step - loss: 0.0024\n",
      "Epoch 81/130\n",
      "27/27 [==============================] - 3s 97ms/step - loss: 0.0025\n",
      "Epoch 82/130\n",
      "27/27 [==============================] - 3s 97ms/step - loss: 0.0026\n",
      "Epoch 83/130\n",
      "27/27 [==============================] - 3s 96ms/step - loss: 0.0026\n",
      "Epoch 84/130\n",
      "27/27 [==============================] - 3s 98ms/step - loss: 0.0028\n",
      "Epoch 85/130\n",
      "27/27 [==============================] - 3s 99ms/step - loss: 0.0026\n",
      "Epoch 86/130\n",
      "27/27 [==============================] - 3s 99ms/step - loss: 0.0023\n",
      "Epoch 87/130\n",
      "27/27 [==============================] - 3s 99ms/step - loss: 0.0023\n",
      "Epoch 88/130\n",
      "27/27 [==============================] - 3s 98ms/step - loss: 0.0023\n",
      "Epoch 89/130\n",
      "27/27 [==============================] - 3s 95ms/step - loss: 0.0024\n",
      "Epoch 90/130\n",
      "27/27 [==============================] - 3s 98ms/step - loss: 0.0020\n",
      "Epoch 91/130\n",
      "27/27 [==============================] - 3s 100ms/step - loss: 0.0023\n",
      "Epoch 92/130\n",
      "27/27 [==============================] - 5s 181ms/step - loss: 0.0031\n",
      "Epoch 93/130\n",
      "27/27 [==============================] - 3s 100ms/step - loss: 0.0027\n",
      "Epoch 94/130\n",
      "27/27 [==============================] - 3s 100ms/step - loss: 0.0020\n",
      "Epoch 95/130\n",
      "27/27 [==============================] - 3s 98ms/step - loss: 0.0020\n",
      "Epoch 96/130\n",
      "27/27 [==============================] - 3s 96ms/step - loss: 0.0030\n",
      "Epoch 97/130\n",
      "27/27 [==============================] - 3s 98ms/step - loss: 0.0028\n",
      "Epoch 98/130\n",
      "27/27 [==============================] - 3s 99ms/step - loss: 0.0023\n",
      "Epoch 99/130\n",
      "27/27 [==============================] - 3s 97ms/step - loss: 315781967511552.0000\n",
      "Epoch 100/130\n",
      "27/27 [==============================] - 3s 97ms/step - loss: 0.0154\n",
      "Epoch 101/130\n",
      "27/27 [==============================] - 3s 98ms/step - loss: 0.0058\n",
      "Epoch 102/130\n",
      "27/27 [==============================] - 3s 97ms/step - loss: 0.0052\n",
      "Epoch 103/130\n",
      "27/27 [==============================] - 3s 97ms/step - loss: 0.0037\n",
      "Epoch 104/130\n",
      "27/27 [==============================] - 3s 97ms/step - loss: 0.0040\n",
      "Epoch 105/130\n",
      "27/27 [==============================] - 3s 98ms/step - loss: 0.0036\n",
      "Epoch 106/130\n",
      "27/27 [==============================] - 3s 97ms/step - loss: 0.0036\n",
      "Epoch 107/130\n",
      "27/27 [==============================] - 3s 98ms/step - loss: 0.0036\n",
      "Epoch 108/130\n",
      "27/27 [==============================] - 3s 97ms/step - loss: 0.0034\n",
      "Epoch 109/130\n",
      "27/27 [==============================] - 3s 97ms/step - loss: 0.0036\n",
      "Epoch 110/130\n",
      "27/27 [==============================] - 3s 97ms/step - loss: 0.0035\n",
      "Epoch 111/130\n",
      "27/27 [==============================] - 3s 97ms/step - loss: 0.0032\n",
      "Epoch 112/130\n",
      "27/27 [==============================] - 5s 185ms/step - loss: 0.0030\n",
      "Epoch 113/130\n",
      "27/27 [==============================] - 3s 97ms/step - loss: 0.0032\n",
      "Epoch 114/130\n",
      "27/27 [==============================] - 3s 97ms/step - loss: 0.0032\n",
      "Epoch 115/130\n",
      "27/27 [==============================] - 3s 98ms/step - loss: 0.0031\n",
      "Epoch 116/130\n",
      "27/27 [==============================] - 3s 97ms/step - loss: 0.0029\n",
      "Epoch 117/130\n",
      "27/27 [==============================] - 3s 97ms/step - loss: 0.0029\n",
      "Epoch 118/130\n",
      "27/27 [==============================] - 3s 99ms/step - loss: 0.0028\n",
      "Epoch 119/130\n",
      "27/27 [==============================] - 3s 97ms/step - loss: 0.0029\n",
      "Epoch 120/130\n",
      "27/27 [==============================] - 3s 98ms/step - loss: 0.0029\n",
      "Epoch 121/130\n",
      "27/27 [==============================] - 3s 96ms/step - loss: 0.0028\n",
      "Epoch 122/130\n",
      "27/27 [==============================] - 3s 97ms/step - loss: 0.0029\n",
      "Epoch 123/130\n",
      "27/27 [==============================] - 3s 99ms/step - loss: 0.0029\n",
      "Epoch 124/130\n",
      "27/27 [==============================] - 3s 98ms/step - loss: 0.0033\n",
      "Epoch 125/130\n",
      "27/27 [==============================] - 3s 97ms/step - loss: 0.0032\n",
      "Epoch 126/130\n",
      "27/27 [==============================] - 3s 98ms/step - loss: 0.0033\n",
      "Epoch 127/130\n",
      "27/27 [==============================] - 3s 98ms/step - loss: 0.0027\n",
      "Epoch 128/130\n",
      "27/27 [==============================] - 3s 98ms/step - loss: 0.0030\n",
      "Epoch 129/130\n",
      "27/27 [==============================] - 3s 97ms/step - loss: 0.0030\n",
      "Epoch 130/130\n",
      "27/27 [==============================] - 3s 98ms/step - loss: 0.0028\n"
     ]
    },
    {
     "data": {
      "text/plain": [
       "<keras.callbacks.History at 0x7f5c2fc33450>"
      ]
     },
     "execution_count": 37,
     "metadata": {},
     "output_type": "execute_result"
    }
   ],
   "source": [
    "# Train the model\n",
    "\n",
    "model.fit_generator(train_tsGenerator60, epochs=130)"
   ]
  },
  {
   "cell_type": "markdown",
   "id": "41eb3107",
   "metadata": {},
   "source": [
    "### Visualize Model's Performance after Training "
   ]
  },
  {
   "cell_type": "code",
   "execution_count": 38,
   "id": "78e4b909",
   "metadata": {},
   "outputs": [
    {
     "data": {
      "text/plain": [
       "dict_keys(['loss'])"
      ]
     },
     "execution_count": 38,
     "metadata": {},
     "output_type": "execute_result"
    }
   ],
   "source": [
    "loss_history_keys = model.history.history.keys()\n",
    "\n",
    "# model.history.history is a dict\n",
    "# 'loss': its key\n",
    "# 'loss': loss during training;\n",
    "loss_history_keys\n"
   ]
  },
  {
   "cell_type": "code",
   "execution_count": 39,
   "id": "0964f51e",
   "metadata": {},
   "outputs": [
    {
     "data": {
      "text/plain": [
       "<AxesSubplot:>"
      ]
     },
     "execution_count": 39,
     "metadata": {},
     "output_type": "execute_result"
    },
    {
     "data": {
      "image/png": "[encoded data removed]",
      "text/plain": [
       "<Figure size 640x480 with 1 Axes>"
      ]
     },
     "metadata": {},
     "output_type": "display_data"
    }
   ],
   "source": [
    "# Load the loss data (model.history.history) into a data frame\n",
    "df_model_loss = pd.DataFrame(model.history.history)\n",
    "\n",
    "# Visualize the loss data using DataFrame.plot()\n",
    "df_model_loss.plot()"
   ]
  },
  {
   "cell_type": "markdown",
   "id": "1f1640f0",
   "metadata": {},
   "source": [
    "## Prediction for Testing: Using TimeseriesGenerator\n",
    "\n",
    "### Create TimseriesGenerator for Testing"
   ]
  },
  {
   "cell_type": "code",
   "execution_count": 40,
   "id": "35d0e49c",
   "metadata": {},
   "outputs": [],
   "source": [
    "# batch_size MUSt be 1\n",
    "batch_size1 = 1\n",
    "\n",
    "# Create a TimeseriesGenerator for testing: test_tsGenerator\n",
    "test_tsGenerator60 = TimeseriesGenerator(normalized_test, normalized_test, length=length80, batch_size=batch_size1)"
   ]
  },
  {
   "cell_type": "markdown",
   "id": "f4ccf111",
   "metadata": {},
   "source": [
    "### Predict Future Data Points for Testing"
   ]
  },
  {
   "cell_type": "code",
   "execution_count": 41,
   "id": "f9a3f89d",
   "metadata": {},
   "outputs": [
    {
     "name": "stderr",
     "output_type": "stream",
     "text": [
      "/opt/conda/lib/python3.7/site-packages/ipykernel_launcher.py:1: UserWarning: `Model.predict_generator` is deprecated and will be removed in a future version. Please use `Model.predict`, which supports generators.\n",
      "  \"\"\"Entry point for launching an IPython kernel.\n"
     ]
    }
   ],
   "source": [
    "normalized_prediction = model.predict_generator (test_tsGenerator60)"
   ]
  },
  {
   "cell_type": "code",
   "execution_count": 42,
   "id": "6617ecf8",
   "metadata": {},
   "outputs": [
    {
     "data": {
      "text/plain": [
       "array([[ 3.43191102e-02],\n",
       "       [ 3.29605266e-02],\n",
       "       [ 3.15050967e-02],\n",
       "       [ 2.99477242e-02],\n",
       "       [ 2.83155870e-02],\n",
       "       [ 2.67006978e-02],\n",
       "       [ 2.53380518e-02],\n",
       "       [ 2.39870995e-02],\n",
       "       [ 2.26024315e-02],\n",
       "       [ 2.12545060e-02],\n",
       "       [ 2.00062767e-02],\n",
       "       [ 1.88529603e-02],\n",
       "       [ 1.78093165e-02],\n",
       "       [ 1.69316977e-02],\n",
       "       [ 1.62835009e-02],\n",
       "       [ 1.59516800e-02],\n",
       "       [ 1.58826280e-02],\n",
       "       [ 1.61362905e-02],\n",
       "       [ 1.67893320e-02],\n",
       "       [ 1.79732833e-02],\n",
       "       [ 1.94077697e-02],\n",
       "       [ 2.08071843e-02],\n",
       "       [ 2.22258531e-02],\n",
       "       [ 2.35656910e-02],\n",
       "       [ 2.46943403e-02],\n",
       "       [ 2.54592355e-02],\n",
       "       [ 2.60816161e-02],\n",
       "       [ 2.65942719e-02],\n",
       "       [ 2.70390008e-02],\n",
       "       [ 2.72800922e-02],\n",
       "       [ 2.72340346e-02],\n",
       "       [ 2.69472916e-02],\n",
       "       [ 2.66229492e-02],\n",
       "       [ 2.62530819e-02],\n",
       "       [ 2.58216858e-02],\n",
       "       [ 2.54282542e-02],\n",
       "       [ 2.50532813e-02],\n",
       "       [ 2.47756615e-02],\n",
       "       [ 2.45145038e-02],\n",
       "       [ 2.42332406e-02],\n",
       "       [ 2.39006151e-02],\n",
       "       [ 2.36103795e-02],\n",
       "       [ 2.33664066e-02],\n",
       "       [ 2.31912322e-02],\n",
       "       [ 2.31501795e-02],\n",
       "       [ 2.34863088e-02],\n",
       "       [ 2.42465176e-02],\n",
       "       [ 2.53422596e-02],\n",
       "       [ 2.67112982e-02],\n",
       "       [ 2.74283048e-02],\n",
       "       [ 2.72152815e-02],\n",
       "       [ 2.63408665e-02],\n",
       "       [ 2.53814962e-02],\n",
       "       [ 2.45955214e-02],\n",
       "       [ 2.38829609e-02],\n",
       "       [ 2.32008733e-02],\n",
       "       [ 2.24701036e-02],\n",
       "       [ 2.16857512e-02],\n",
       "       [ 2.09340043e-02],\n",
       "       [ 2.02698801e-02],\n",
       "       [ 1.96887739e-02],\n",
       "       [ 1.91337671e-02],\n",
       "       [ 1.85726807e-02],\n",
       "       [ 1.79339126e-02],\n",
       "       [ 1.71362422e-02],\n",
       "       [ 1.63801704e-02],\n",
       "       [ 1.57264043e-02],\n",
       "       [ 1.51072983e-02],\n",
       "       [ 1.45493075e-02],\n",
       "       [ 1.40183177e-02],\n",
       "       [ 1.34953782e-02],\n",
       "       [ 1.30484775e-02],\n",
       "       [ 1.27094276e-02],\n",
       "       [ 1.25192422e-02],\n",
       "       [ 1.23243872e-02],\n",
       "       [ 1.20635871e-02],\n",
       "       [ 1.17931981e-02],\n",
       "       [ 1.15680713e-02],\n",
       "       [ 1.13977958e-02],\n",
       "       [ 1.12252664e-02],\n",
       "       [ 1.10558979e-02],\n",
       "       [ 1.09172761e-02],\n",
       "       [ 1.08040962e-02],\n",
       "       [ 1.07229501e-02],\n",
       "       [ 1.06701590e-02],\n",
       "       [ 1.06291287e-02],\n",
       "       [ 1.05685964e-02],\n",
       "       [ 1.05107520e-02],\n",
       "       [ 1.04317050e-02],\n",
       "       [ 1.03400834e-02],\n",
       "       [ 1.02250688e-02],\n",
       "       [ 1.00752208e-02],\n",
       "       [ 9.90666635e-03],\n",
       "       [ 9.66651365e-03],\n",
       "       [ 9.33071971e-03],\n",
       "       [ 8.87466967e-03],\n",
       "       [ 8.30352865e-03],\n",
       "       [ 7.63318129e-03],\n",
       "       [ 6.93947263e-03],\n",
       "       [ 6.21007755e-03],\n",
       "       [ 5.47140650e-03],\n",
       "       [ 4.60721925e-03],\n",
       "       [ 3.65876965e-03],\n",
       "       [ 2.66924500e-03],\n",
       "       [ 1.68450549e-03],\n",
       "       [ 7.35118985e-04],\n",
       "       [-1.80300325e-04],\n",
       "       [-1.04831532e-03],\n",
       "       [-1.84298679e-03],\n",
       "       [-2.54167616e-03],\n",
       "       [-3.16369161e-03],\n",
       "       [-3.71493772e-03],\n",
       "       [-4.17759642e-03],\n",
       "       [-4.54522669e-03],\n",
       "       [-4.86217067e-03],\n",
       "       [-5.16078621e-03],\n",
       "       [-5.51812723e-03],\n",
       "       [-5.89483231e-03],\n",
       "       [-6.25951216e-03],\n",
       "       [-6.60807267e-03],\n",
       "       [-6.92426413e-03],\n",
       "       [-7.19463080e-03],\n",
       "       [-7.45230168e-03],\n",
       "       [-7.67904148e-03],\n",
       "       [-7.92064145e-03],\n",
       "       [-8.24621320e-03],\n",
       "       [-8.62168521e-03],\n",
       "       [-9.04066116e-03],\n",
       "       [-9.50434804e-03],\n",
       "       [-9.99033451e-03],\n",
       "       [-1.04807280e-02],\n",
       "       [-1.10114031e-02],\n",
       "       [-1.15150735e-02],\n",
       "       [-1.20363012e-02],\n",
       "       [-1.25974938e-02],\n",
       "       [-1.31538399e-02],\n",
       "       [-1.37247667e-02],\n",
       "       [-1.42606683e-02],\n",
       "       [-1.47678591e-02],\n",
       "       [-1.52622126e-02],\n",
       "       [-1.57689191e-02],\n",
       "       [-1.63128935e-02],\n",
       "       [-1.68821700e-02],\n",
       "       [-1.74609683e-02],\n",
       "       [-1.80581249e-02],\n",
       "       [-1.86160319e-02],\n",
       "       [-1.90785266e-02],\n",
       "       [-1.93993635e-02],\n",
       "       [-1.95452049e-02],\n",
       "       [-1.94499232e-02],\n",
       "       [-1.91570781e-02],\n",
       "       [-1.87545158e-02],\n",
       "       [-1.82875581e-02],\n",
       "       [-1.77212134e-02],\n",
       "       [-1.71093307e-02],\n",
       "       [-1.64445974e-02],\n",
       "       [-1.57266967e-02],\n",
       "       [-1.49612725e-02],\n",
       "       [-1.38814263e-02],\n",
       "       [-1.26370080e-02],\n",
       "       [-1.13232508e-02],\n",
       "       [-1.00561976e-02],\n",
       "       [-8.86429474e-03],\n",
       "       [-7.79829547e-03],\n",
       "       [-6.74638525e-03],\n",
       "       [-5.72292879e-03],\n",
       "       [-4.87263873e-03],\n",
       "       [-4.19193134e-03],\n",
       "       [-3.59340757e-03],\n",
       "       [-3.00926343e-03],\n",
       "       [-2.40722671e-03],\n",
       "       [-1.86854228e-03],\n",
       "       [-1.41450390e-03],\n",
       "       [-9.85469669e-04],\n",
       "       [-5.48526645e-04],\n",
       "       [-1.08312815e-04],\n",
       "       [ 2.64164060e-04],\n",
       "       [ 5.77379018e-04],\n",
       "       [ 8.65522772e-04],\n",
       "       [ 1.15279481e-03],\n",
       "       [ 1.41736865e-03],\n",
       "       [ 1.65557489e-03],\n",
       "       [ 1.83221698e-03],\n",
       "       [ 1.97909400e-03],\n",
       "       [ 2.10367888e-03],\n",
       "       [ 2.19662115e-03],\n",
       "       [ 2.23595276e-03],\n",
       "       [ 2.25534849e-03],\n",
       "       [ 2.25140341e-03],\n",
       "       [ 2.24923342e-03],\n",
       "       [ 2.25407630e-03],\n",
       "       [ 2.28981301e-03],\n",
       "       [ 2.36760452e-03],\n",
       "       [ 2.47869827e-03],\n",
       "       [ 2.63060257e-03],\n",
       "       [ 2.80856527e-03],\n",
       "       [ 3.03514861e-03],\n",
       "       [ 3.29353660e-03],\n",
       "       [ 3.55603173e-03],\n",
       "       [ 3.82556394e-03],\n",
       "       [ 4.14333493e-03],\n",
       "       [ 4.63509001e-03],\n",
       "       [ 5.44735417e-03],\n",
       "       [ 6.41120784e-03],\n",
       "       [ 7.36022368e-03],\n",
       "       [ 7.89264403e-03],\n",
       "       [ 7.98961893e-03],\n",
       "       [ 7.94438273e-03],\n",
       "       [ 7.71313533e-03],\n",
       "       [ 7.31962547e-03],\n",
       "       [ 6.85491227e-03],\n",
       "       [ 6.51226006e-03],\n",
       "       [ 6.27490319e-03],\n",
       "       [ 6.14095852e-03],\n",
       "       [ 6.25416636e-03],\n",
       "       [ 6.51581399e-03],\n",
       "       [ 6.94902427e-03],\n",
       "       [ 7.58264028e-03],\n",
       "       [ 8.30434076e-03],\n",
       "       [ 9.00718383e-03],\n",
       "       [ 9.62986425e-03],\n",
       "       [ 1.01852566e-02],\n",
       "       [ 1.06615685e-02],\n",
       "       [ 1.10753402e-02],\n",
       "       [ 1.12738702e-02],\n",
       "       [ 1.14390664e-02],\n",
       "       [ 1.15251057e-02],\n",
       "       [ 1.15276985e-02],\n",
       "       [ 1.14300493e-02],\n",
       "       [ 1.12464391e-02],\n",
       "       [ 1.09543372e-02],\n",
       "       [ 1.05790813e-02],\n",
       "       [ 1.01339556e-02],\n",
       "       [ 9.62637737e-03],\n",
       "       [ 9.10685956e-03],\n",
       "       [ 8.57178308e-03],\n",
       "       [ 8.04068707e-03],\n",
       "       [ 7.50928000e-03],\n",
       "       [ 7.00748526e-03],\n",
       "       [ 6.55467622e-03],\n",
       "       [ 6.18646480e-03],\n",
       "       [ 5.90114668e-03],\n",
       "       [ 5.66781498e-03],\n",
       "       [ 5.45094348e-03],\n",
       "       [ 5.28313592e-03],\n",
       "       [ 5.17537817e-03],\n",
       "       [ 5.10183722e-03],\n",
       "       [ 4.99820150e-03],\n",
       "       [ 4.79798578e-03],\n",
       "       [ 4.57936898e-03],\n",
       "       [ 4.36279178e-03],\n",
       "       [ 4.14042734e-03],\n",
       "       [ 3.97765636e-03],\n",
       "       [ 3.89643200e-03],\n",
       "       [ 3.83432396e-03],\n",
       "       [ 3.78478505e-03],\n",
       "       [ 3.74756195e-03],\n",
       "       [ 3.72291356e-03],\n",
       "       [ 3.69160995e-03],\n",
       "       [ 3.58381122e-03],\n",
       "       [ 3.40256840e-03],\n",
       "       [ 3.08254920e-03],\n",
       "       [ 2.64795497e-03],\n",
       "       [ 2.08364427e-03],\n",
       "       [ 1.41984969e-03],\n",
       "       [ 6.07054681e-04],\n",
       "       [-2.17430294e-04],\n",
       "       [-1.05112419e-03],\n",
       "       [-1.75690651e-03],\n",
       "       [-2.30785832e-03],\n",
       "       [-2.67103314e-03],\n",
       "       [-2.81099603e-03],\n",
       "       [-3.07285786e-03],\n",
       "       [-3.31918895e-03],\n",
       "       [-3.55207548e-03],\n",
       "       [-3.76742333e-03],\n",
       "       [-3.96345556e-03],\n",
       "       [-4.19687480e-03],\n",
       "       [-4.50653955e-03],\n",
       "       [-4.86638024e-03],\n",
       "       [-5.31242415e-03],\n",
       "       [-5.84149733e-03],\n",
       "       [-6.45561889e-03],\n",
       "       [-7.13279098e-03],\n",
       "       [-7.87743554e-03],\n",
       "       [-8.69569555e-03],\n",
       "       [-9.62154195e-03],\n",
       "       [-1.06624179e-02],\n",
       "       [-1.17059164e-02],\n",
       "       [-1.27697140e-02],\n",
       "       [-1.38404258e-02],\n",
       "       [-1.49649195e-02],\n",
       "       [-1.61595270e-02],\n",
       "       [-1.73807926e-02],\n",
       "       [-1.84313245e-02],\n",
       "       [-1.90893151e-02],\n",
       "       [-1.90533586e-02],\n",
       "       [-1.83843486e-02],\n",
       "       [-1.72504410e-02],\n",
       "       [-1.58829056e-02],\n",
       "       [-1.44031122e-02],\n",
       "       [-1.28762461e-02],\n",
       "       [-1.12888627e-02],\n",
       "       [-9.63054225e-03],\n",
       "       [-7.89261982e-03],\n",
       "       [-6.24615699e-03],\n",
       "       [-4.68486175e-03],\n",
       "       [-3.19686532e-03],\n",
       "       [-1.83788687e-03],\n",
       "       [-6.89536333e-04],\n",
       "       [-4.76166606e-05],\n",
       "       [ 1.71814114e-04],\n",
       "       [ 5.55068254e-06],\n",
       "       [-5.13561070e-04],\n",
       "       [-1.33971125e-03],\n",
       "       [-2.41133571e-03],\n",
       "       [-3.73117998e-03],\n",
       "       [-5.24526834e-03],\n",
       "       [-6.93144649e-03],\n",
       "       [-8.75500962e-03],\n",
       "       [-1.06264576e-02],\n",
       "       [-1.25171728e-02],\n",
       "       [-1.44159049e-02],\n",
       "       [-1.62912123e-02],\n",
       "       [-1.82497166e-02],\n",
       "       [-2.03496702e-02],\n",
       "       [-2.25750580e-02],\n",
       "       [-2.49118097e-02],\n",
       "       [-2.73363441e-02],\n",
       "       [-2.98354961e-02],\n",
       "       [-3.23794372e-02],\n",
       "       [-3.49305384e-02],\n",
       "       [-3.75079326e-02],\n",
       "       [-4.01023589e-02],\n",
       "       [-4.26919498e-02],\n",
       "       [-4.52763028e-02],\n",
       "       [-4.78547700e-02],\n",
       "       [-5.05043305e-02],\n",
       "       [-5.32150008e-02],\n",
       "       [-5.59657849e-02],\n",
       "       [-5.87549992e-02],\n",
       "       [-6.16716333e-02],\n",
       "       [-6.47168607e-02],\n",
       "       [-6.78890795e-02],\n",
       "       [-7.12059289e-02],\n",
       "       [-7.47341961e-02],\n",
       "       [-7.85341114e-02],\n",
       "       [-8.26243609e-02],\n",
       "       [-8.71035755e-02],\n",
       "       [-9.19590890e-02],\n",
       "       [-9.73006338e-02],\n",
       "       [-1.03124395e-01],\n",
       "       [-1.09403431e-01],\n",
       "       [-1.16123825e-01],\n",
       "       [-1.23309672e-01],\n",
       "       [-1.31117120e-01],\n",
       "       [-1.39512345e-01],\n",
       "       [-1.48527116e-01],\n",
       "       [-1.58138409e-01],\n",
       "       [-1.68542579e-01],\n",
       "       [-1.79430738e-01],\n",
       "       [-1.91063151e-01],\n",
       "       [-2.03807116e-01],\n",
       "       [-2.18338281e-01],\n",
       "       [-2.34963059e-01],\n",
       "       [-2.54194140e-01],\n",
       "       [-2.76566923e-01],\n",
       "       [-3.03003520e-01],\n",
       "       [-3.35374117e-01],\n",
       "       [-3.74097973e-01],\n",
       "       [-4.21325684e-01],\n",
       "       [-4.81581002e-01],\n",
       "       [-5.67465365e-01],\n",
       "       [-6.89598203e-01],\n",
       "       [-8.63873422e-01],\n",
       "       [-1.11726272e+00],\n",
       "       [-1.48685086e+00],\n",
       "       [-2.01378679e+00],\n",
       "       [-2.70941663e+00],\n",
       "       [-3.55707264e+00],\n",
       "       [-4.58031082e+00],\n",
       "       [-5.82417202e+00],\n",
       "       [-6.94235468e+00],\n",
       "       [-6.84117222e+00],\n",
       "       [-7.23592281e+00],\n",
       "       [-7.90916491e+00],\n",
       "       [-9.40127087e+00],\n",
       "       [-1.25994253e+01],\n",
       "       [-1.51783800e+01],\n",
       "       [-2.09405174e+01],\n",
       "       [-3.33315201e+01],\n",
       "       [-3.62299156e+01],\n",
       "       [-3.61431656e+01],\n",
       "       [-3.77110901e+01],\n",
       "       [-4.85851440e+01],\n",
       "       [-5.21760063e+01],\n",
       "       [-5.95495987e+01],\n",
       "       [-5.60772972e+01],\n",
       "       [-6.52361603e+01],\n",
       "       [-7.88264008e+01],\n",
       "       [-8.99227982e+01],\n",
       "       [-9.97022247e+01],\n",
       "       [-1.14981544e+02],\n",
       "       [-1.12018463e+02],\n",
       "       [-1.40280838e+02],\n",
       "       [-1.45134811e+02],\n",
       "       [-1.47513397e+02],\n",
       "       [-1.85709061e+02],\n",
       "       [-2.08898972e+02],\n",
       "       [-2.45047623e+02],\n",
       "       [-2.56356567e+02],\n",
       "       [-2.84823700e+02],\n",
       "       [-3.21085571e+02],\n",
       "       [-3.14855499e+02],\n",
       "       [-3.88486176e+02]], dtype=float32)"
      ]
     },
     "execution_count": 42,
     "metadata": {},
     "output_type": "execute_result"
    }
   ],
   "source": [
    "# Prediction is a numpy 2D array with only one column\n",
    "\n",
    "normalized_prediction"
   ]
  },
  {
   "cell_type": "code",
   "execution_count": 43,
   "id": "bc621f9c",
   "metadata": {},
   "outputs": [
    {
     "data": {
      "text/plain": [
       "415"
      ]
     },
     "execution_count": 43,
     "metadata": {},
     "output_type": "execute_result"
    }
   ],
   "source": [
    "len(normalized_prediction)"
   ]
  },
  {
   "cell_type": "code",
   "execution_count": 44,
   "id": "729ff0c3",
   "metadata": {},
   "outputs": [],
   "source": [
    "# Convert normalizes predictino back to the true values\n",
    "\n",
    "prediction = scaler.inverse_transform(normalized_prediction)"
   ]
  },
  {
   "cell_type": "code",
   "execution_count": 45,
   "id": "c43961ad",
   "metadata": {},
   "outputs": [],
   "source": [
    "# Flatten all the 2D array\n",
    "\n",
    "#data_train = data_train.reshape((-1))\n",
    "#data_test = data_test.reshape((-1))\n",
    "#data_prediction = prediction.reshape((-1))\n",
    "\n",
    "prediction_index = np.arange(967, 1382, step=1)\n",
    "\n",
    "df_prediction = pd.DataFrame(data=prediction,index=prediction_index, columns=['Prediction'])"
   ]
  },
  {
   "cell_type": "code",
   "execution_count": 46,
   "id": "bff76436",
   "metadata": {},
   "outputs": [
    {
     "data": {
      "text/html": [
       "<div>\n",
       "<style scoped>\n",
       "    .dataframe tbody tr th:only-of-type {\n",
       "        vertical-align: middle;\n",
       "    }\n",
       "\n",
       "    .dataframe tbody tr th {\n",
       "        vertical-align: top;\n",
       "    }\n",
       "\n",
       "    .dataframe thead th {\n",
       "        text-align: right;\n",
       "    }\n",
       "</style>\n",
       "<table border=\"1\" class=\"dataframe\">\n",
       "  <thead>\n",
       "    <tr style=\"text-align: right;\">\n",
       "      <th></th>\n",
       "      <th>Prediction</th>\n",
       "    </tr>\n",
       "  </thead>\n",
       "  <tbody>\n",
       "    <tr>\n",
       "      <th>967</th>\n",
       "      <td>4.892260</td>\n",
       "    </tr>\n",
       "    <tr>\n",
       "      <th>968</th>\n",
       "      <td>4.881680</td>\n",
       "    </tr>\n",
       "    <tr>\n",
       "      <th>969</th>\n",
       "      <td>4.870346</td>\n",
       "    </tr>\n",
       "    <tr>\n",
       "      <th>970</th>\n",
       "      <td>4.858218</td>\n",
       "    </tr>\n",
       "    <tr>\n",
       "      <th>971</th>\n",
       "      <td>4.845508</td>\n",
       "    </tr>\n",
       "    <tr>\n",
       "      <th>...</th>\n",
       "      <td>...</td>\n",
       "    </tr>\n",
       "    <tr>\n",
       "      <th>1377</th>\n",
       "      <td>-1991.751709</td>\n",
       "    </tr>\n",
       "    <tr>\n",
       "      <th>1378</th>\n",
       "      <td>-2213.439453</td>\n",
       "    </tr>\n",
       "    <tr>\n",
       "      <th>1379</th>\n",
       "      <td>-2495.828857</td>\n",
       "    </tr>\n",
       "    <tr>\n",
       "      <th>1380</th>\n",
       "      <td>-2447.312256</td>\n",
       "    </tr>\n",
       "    <tr>\n",
       "      <th>1381</th>\n",
       "      <td>-3020.711182</td>\n",
       "    </tr>\n",
       "  </tbody>\n",
       "</table>\n",
       "<p>415 rows × 1 columns</p>\n",
       "</div>"
      ],
      "text/plain": [
       "       Prediction\n",
       "967      4.892260\n",
       "968      4.881680\n",
       "969      4.870346\n",
       "970      4.858218\n",
       "971      4.845508\n",
       "...           ...\n",
       "1377 -1991.751709\n",
       "1378 -2213.439453\n",
       "1379 -2495.828857\n",
       "1380 -2447.312256\n",
       "1381 -3020.711182\n",
       "\n",
       "[415 rows x 1 columns]"
      ]
     },
     "execution_count": 46,
     "metadata": {},
     "output_type": "execute_result"
    }
   ],
   "source": [
    "df_prediction"
   ]
  },
  {
   "cell_type": "markdown",
   "id": "ca58d2d0",
   "metadata": {},
   "source": [
    "### Visualize Prediction"
   ]
  },
  {
   "cell_type": "code",
   "execution_count": 47,
   "id": "f3d7da5b",
   "metadata": {},
   "outputs": [
    {
     "data": {
      "text/plain": [
       "<AxesSubplot:>"
      ]
     },
     "execution_count": 47,
     "metadata": {},
     "output_type": "execute_result"
    },
    {
     "data": {
      "image/png": "[encoded data removed]",
      "text/plain": [
       "<Figure size 800x1200 with 1 Axes>"
      ]
     },
     "metadata": {},
     "output_type": "display_data"
    }
   ],
   "source": [
    "ax = data_train.plot()\n",
    "\n",
    "df_prediction.plot(ax=ax, figsize=(8,12))"
   ]
  },
  {
   "cell_type": "markdown",
   "id": "c25d2bb1",
   "metadata": {},
   "source": [
    "### Visualize Prediction and Compare Actual Close Price "
   ]
  },
  {
   "cell_type": "code",
   "execution_count": 48,
   "id": "66c3e6b9",
   "metadata": {},
   "outputs": [
    {
     "data": {
      "text/plain": [
       "<AxesSubplot:>"
      ]
     },
     "execution_count": 48,
     "metadata": {},
     "output_type": "execute_result"
    },
    {
     "data": {
      "image/png": "[encoded data removed]",
      "text/plain": [
       "<Figure size 800x1200 with 1 Axes>"
      ]
     },
     "metadata": {},
     "output_type": "display_data"
    }
   ],
   "source": [
    "ax = df.plot()\n",
    "df_prediction.plot(ax=ax, figsize=(8,12))"
   ]
  },
  {
   "cell_type": "markdown",
   "id": "e5844051",
   "metadata": {},
   "source": [
    "## Time Series Forcasting with LSTM\n",
    "\n",
    "### Overview\n",
    "\n",
    "#### Time series forecasting:\n",
    "--> Forecast into the \"future\" or unknown range\n",
    "<br>\n",
    "--> Should employ all the available data\n",
    "<br>\n",
    "--> i.e., Not split the data into training/testing "
   ]
  },
  {
   "cell_type": "markdown",
   "id": "ce8a59a9",
   "metadata": {},
   "source": [
    "### Preprocess Full Input Dataset"
   ]
  },
  {
   "cell_type": "code",
   "execution_count": 49,
   "id": "f835c827",
   "metadata": {},
   "outputs": [],
   "source": [
    "#Still use MinMaxScaler to normalize the full input dataset df\n",
    "\n",
    "full_scaler = MinMaxScaler()\n",
    "normalized_full_data = full_scaler.fit_transform(df)"
   ]
  },
  {
   "cell_type": "markdown",
   "id": "101d4955",
   "metadata": {},
   "source": [
    "### Create TimeSeriesGenerator for Froecasting"
   ]
  },
  {
   "cell_type": "code",
   "execution_count": 50,
   "id": "801c978f",
   "metadata": {},
   "outputs": [
    {
     "data": {
      "text/plain": [
       "80"
      ]
     },
     "execution_count": 50,
     "metadata": {},
     "output_type": "execute_result"
    }
   ],
   "source": [
    "# Number of time steps of the input time series\n",
    "# Still use length80:\n",
    "length80"
   ]
  },
  {
   "cell_type": "code",
   "execution_count": 51,
   "id": "48a2c7df",
   "metadata": {},
   "outputs": [],
   "source": [
    "# Create TimeseriesGnerator for forecasting\n",
    "forecast_tsGenerator = TimeseriesGenerator(normalized_full_data, normalized_full_data, length=length80, batch_size=batch_size33)"
   ]
  },
  {
   "cell_type": "markdown",
   "id": "c94ebac0",
   "metadata": {},
   "source": [
    "### Build, Compile, and Fit LSTM Model for Forecasting"
   ]
  },
  {
   "cell_type": "code",
   "execution_count": 52,
   "id": "79def75d",
   "metadata": {},
   "outputs": [
    {
     "name": "stdout",
     "output_type": "stream",
     "text": [
      "Epoch 1/130\n",
      " 1/40 [..............................] - ETA: 4s - loss: 0.0022"
     ]
    },
    {
     "name": "stderr",
     "output_type": "stream",
     "text": [
      "/opt/conda/lib/python3.7/site-packages/ipykernel_launcher.py:5: UserWarning: `Model.fit_generator` is deprecated and will be removed in a future version. Please use `Model.fit`, which supports generators.\n",
      "  \"\"\"\n"
     ]
    },
    {
     "name": "stdout",
     "output_type": "stream",
     "text": [
      "40/40 [==============================] - 4s 97ms/step - loss: 0.0018\n",
      "Epoch 2/130\n",
      "40/40 [==============================] - 4s 97ms/step - loss: 0.0017\n",
      "Epoch 3/130\n",
      "40/40 [==============================] - 4s 97ms/step - loss: 0.0016\n",
      "Epoch 4/130\n",
      "40/40 [==============================] - 4s 98ms/step - loss: 0.0020\n",
      "Epoch 5/130\n",
      "40/40 [==============================] - 4s 97ms/step - loss: 0.0017\n",
      "Epoch 6/130\n",
      "40/40 [==============================] - 4s 98ms/step - loss: 0.0019\n",
      "Epoch 7/130\n",
      "40/40 [==============================] - 4s 98ms/step - loss: 0.0021\n",
      "Epoch 8/130\n",
      "40/40 [==============================] - 4s 97ms/step - loss: 0.0018\n",
      "Epoch 9/130\n",
      "40/40 [==============================] - 4s 98ms/step - loss: 0.0017\n",
      "Epoch 10/130\n",
      "40/40 [==============================] - 4s 97ms/step - loss: 0.0016\n",
      "Epoch 11/130\n",
      "40/40 [==============================] - 4s 98ms/step - loss: 0.0014\n",
      "Epoch 12/130\n",
      "40/40 [==============================] - 4s 96ms/step - loss: 0.0016\n",
      "Epoch 13/130\n",
      "40/40 [==============================] - 5s 115ms/step - loss: 0.0016\n",
      "Epoch 14/130\n",
      "40/40 [==============================] - 5s 123ms/step - loss: 0.0018\n",
      "Epoch 15/130\n",
      "40/40 [==============================] - 4s 98ms/step - loss: 0.0016\n",
      "Epoch 16/130\n",
      "40/40 [==============================] - 4s 97ms/step - loss: 0.0015\n",
      "Epoch 17/130\n",
      "40/40 [==============================] - 4s 98ms/step - loss: 0.0015\n",
      "Epoch 18/130\n",
      "40/40 [==============================] - 4s 96ms/step - loss: 0.0016\n",
      "Epoch 19/130\n",
      "40/40 [==============================] - 4s 98ms/step - loss: 0.0015\n",
      "Epoch 20/130\n",
      "40/40 [==============================] - 4s 97ms/step - loss: 0.0015\n",
      "Epoch 21/130\n",
      "40/40 [==============================] - 4s 98ms/step - loss: 0.0015\n",
      "Epoch 22/130\n",
      "40/40 [==============================] - 4s 97ms/step - loss: 0.0014\n",
      "Epoch 23/130\n",
      "40/40 [==============================] - 4s 98ms/step - loss: 0.0014\n",
      "Epoch 24/130\n",
      "40/40 [==============================] - 4s 97ms/step - loss: 0.0015\n",
      "Epoch 25/130\n",
      "40/40 [==============================] - 4s 98ms/step - loss: 0.0015\n",
      "Epoch 26/130\n",
      "40/40 [==============================] - 4s 97ms/step - loss: 0.0015\n",
      "Epoch 27/130\n",
      "40/40 [==============================] - 4s 97ms/step - loss: 0.0015\n",
      "Epoch 28/130\n",
      "40/40 [==============================] - 6s 156ms/step - loss: 0.0016\n",
      "Epoch 29/130\n",
      "40/40 [==============================] - 4s 98ms/step - loss: 0.0014\n",
      "Epoch 30/130\n",
      "40/40 [==============================] - 4s 97ms/step - loss: 0.0013\n",
      "Epoch 31/130\n",
      "40/40 [==============================] - 4s 97ms/step - loss: 0.0014\n",
      "Epoch 32/130\n",
      "40/40 [==============================] - 4s 98ms/step - loss: 0.0017\n",
      "Epoch 33/130\n",
      "40/40 [==============================] - 4s 97ms/step - loss: 0.0014\n",
      "Epoch 34/130\n",
      "40/40 [==============================] - 4s 97ms/step - loss: 0.0014\n",
      "Epoch 35/130\n",
      "40/40 [==============================] - 4s 97ms/step - loss: 0.0015\n",
      "Epoch 36/130\n",
      "40/40 [==============================] - 4s 96ms/step - loss: 0.0016\n",
      "Epoch 37/130\n",
      "40/40 [==============================] - 4s 97ms/step - loss: 0.0018\n",
      "Epoch 38/130\n",
      "40/40 [==============================] - 4s 96ms/step - loss: 0.0016\n",
      "Epoch 39/130\n",
      "40/40 [==============================] - 4s 97ms/step - loss: 0.0014\n",
      "Epoch 40/130\n",
      "40/40 [==============================] - 4s 96ms/step - loss: 0.0012\n",
      "Epoch 41/130\n",
      "40/40 [==============================] - 4s 97ms/step - loss: 0.0020\n",
      "Epoch 42/130\n",
      "40/40 [==============================] - 4s 96ms/step - loss: 0.0014\n",
      "Epoch 43/130\n",
      "40/40 [==============================] - 6s 158ms/step - loss: 0.0014\n",
      "Epoch 44/130\n",
      "40/40 [==============================] - 4s 100ms/step - loss: 0.0013\n",
      "Epoch 45/130\n",
      "40/40 [==============================] - 4s 99ms/step - loss: 0.0014\n",
      "Epoch 46/130\n",
      "40/40 [==============================] - 4s 97ms/step - loss: 0.0015\n",
      "Epoch 47/130\n",
      "40/40 [==============================] - 4s 97ms/step - loss: 0.0013\n",
      "Epoch 48/130\n",
      "40/40 [==============================] - 4s 96ms/step - loss: 0.0015\n",
      "Epoch 49/130\n",
      "40/40 [==============================] - 4s 97ms/step - loss: 0.0013\n",
      "Epoch 50/130\n",
      "40/40 [==============================] - 4s 98ms/step - loss: 0.0016\n",
      "Epoch 51/130\n",
      "40/40 [==============================] - 4s 98ms/step - loss: 0.0017\n",
      "Epoch 52/130\n",
      "40/40 [==============================] - 4s 97ms/step - loss: 0.0016\n",
      "Epoch 53/130\n",
      "40/40 [==============================] - 4s 97ms/step - loss: 0.0014\n",
      "Epoch 54/130\n",
      "40/40 [==============================] - 4s 97ms/step - loss: 0.0013\n",
      "Epoch 55/130\n",
      "40/40 [==============================] - 4s 97ms/step - loss: 0.0014\n",
      "Epoch 56/130\n",
      "40/40 [==============================] - 4s 97ms/step - loss: 0.0013\n",
      "Epoch 57/130\n",
      "40/40 [==============================] - 6s 150ms/step - loss: 0.0016\n",
      "Epoch 58/130\n",
      "40/40 [==============================] - 4s 98ms/step - loss: 0.0013\n",
      "Epoch 59/130\n",
      "40/40 [==============================] - 4s 98ms/step - loss: 0.0013\n",
      "Epoch 60/130\n",
      "40/40 [==============================] - 4s 97ms/step - loss: 0.0015\n",
      "Epoch 61/130\n",
      "40/40 [==============================] - 4s 97ms/step - loss: 0.0015\n",
      "Epoch 62/130\n",
      "40/40 [==============================] - 4s 97ms/step - loss: 0.0014\n",
      "Epoch 63/130\n",
      "40/40 [==============================] - 4s 97ms/step - loss: 0.0015\n",
      "Epoch 64/130\n",
      "40/40 [==============================] - 4s 96ms/step - loss: 0.0013\n",
      "Epoch 65/130\n",
      "40/40 [==============================] - 4s 98ms/step - loss: 0.0013\n",
      "Epoch 66/130\n",
      "40/40 [==============================] - 4s 97ms/step - loss: 0.0012\n",
      "Epoch 67/130\n",
      "40/40 [==============================] - 4s 98ms/step - loss: 0.0014\n",
      "Epoch 68/130\n",
      "40/40 [==============================] - 4s 96ms/step - loss: 0.0013\n",
      "Epoch 69/130\n",
      "40/40 [==============================] - 4s 98ms/step - loss: 0.0013\n",
      "Epoch 70/130\n",
      "40/40 [==============================] - 4s 98ms/step - loss: 0.0013\n",
      "Epoch 71/130\n",
      "40/40 [==============================] - 4s 97ms/step - loss: 0.0012\n",
      "Epoch 72/130\n",
      "40/40 [==============================] - 6s 157ms/step - loss: 0.0014\n",
      "Epoch 73/130\n",
      "40/40 [==============================] - 4s 97ms/step - loss: 0.0014\n",
      "Epoch 74/130\n",
      "40/40 [==============================] - 4s 98ms/step - loss: 0.0016\n",
      "Epoch 75/130\n",
      "40/40 [==============================] - 4s 97ms/step - loss: 0.0013\n",
      "Epoch 76/130\n",
      "40/40 [==============================] - 4s 97ms/step - loss: 0.0014\n",
      "Epoch 77/130\n",
      "40/40 [==============================] - 4s 97ms/step - loss: 0.0014\n",
      "Epoch 78/130\n",
      "40/40 [==============================] - 4s 98ms/step - loss: 0.0020\n",
      "Epoch 79/130\n",
      "40/40 [==============================] - 4s 98ms/step - loss: 0.0016\n",
      "Epoch 80/130\n",
      "40/40 [==============================] - 4s 97ms/step - loss: 0.0015\n",
      "Epoch 81/130\n",
      "40/40 [==============================] - 4s 96ms/step - loss: 0.0014\n",
      "Epoch 82/130\n",
      "40/40 [==============================] - 4s 97ms/step - loss: 0.0012\n",
      "Epoch 83/130\n",
      "40/40 [==============================] - 4s 96ms/step - loss: 0.0013\n",
      "Epoch 84/130\n",
      "40/40 [==============================] - 4s 97ms/step - loss: 0.0014\n",
      "Epoch 85/130\n",
      "40/40 [==============================] - 4s 106ms/step - loss: 0.0013\n",
      "Epoch 86/130\n",
      "40/40 [==============================] - 6s 141ms/step - loss: 0.0012\n",
      "Epoch 87/130\n",
      "40/40 [==============================] - 4s 98ms/step - loss: 0.0013\n",
      "Epoch 88/130\n",
      "40/40 [==============================] - 4s 96ms/step - loss: 0.0011\n",
      "Epoch 89/130\n",
      "40/40 [==============================] - 4s 96ms/step - loss: 0.0012\n",
      "Epoch 90/130\n",
      "40/40 [==============================] - 4s 97ms/step - loss: 0.0012\n",
      "Epoch 91/130\n",
      "40/40 [==============================] - 4s 97ms/step - loss: 0.0011\n",
      "Epoch 92/130\n",
      "40/40 [==============================] - 4s 96ms/step - loss: 0.0011\n",
      "Epoch 93/130\n",
      "40/40 [==============================] - 4s 97ms/step - loss: 0.0014\n",
      "Epoch 94/130\n",
      "40/40 [==============================] - 4s 99ms/step - loss: 0.0012\n",
      "Epoch 95/130\n",
      "40/40 [==============================] - 4s 97ms/step - loss: 0.0012\n",
      "Epoch 96/130\n",
      "40/40 [==============================] - 4s 96ms/step - loss: 0.0011\n",
      "Epoch 97/130\n",
      "40/40 [==============================] - 4s 98ms/step - loss: 0.0011\n",
      "Epoch 98/130\n",
      "40/40 [==============================] - 4s 96ms/step - loss: 0.0013\n",
      "Epoch 99/130\n",
      "40/40 [==============================] - 5s 131ms/step - loss: 0.0011\n",
      "Epoch 100/130\n",
      "40/40 [==============================] - 5s 115ms/step - loss: 0.0012\n",
      "Epoch 101/130\n",
      "40/40 [==============================] - 4s 99ms/step - loss: 0.0012\n",
      "Epoch 102/130\n",
      "40/40 [==============================] - 4s 99ms/step - loss: 0.0015\n",
      "Epoch 103/130\n",
      "40/40 [==============================] - 4s 98ms/step - loss: 0.0015\n",
      "Epoch 104/130\n",
      "40/40 [==============================] - 4s 98ms/step - loss: 0.0012\n",
      "Epoch 105/130\n",
      "40/40 [==============================] - 4s 97ms/step - loss: 0.0012\n",
      "Epoch 106/130\n",
      "40/40 [==============================] - 4s 97ms/step - loss: 0.0013\n",
      "Epoch 107/130\n",
      "40/40 [==============================] - 4s 99ms/step - loss: 0.0012\n",
      "Epoch 108/130\n",
      "40/40 [==============================] - 4s 97ms/step - loss: 0.0011\n",
      "Epoch 109/130\n",
      "40/40 [==============================] - 4s 98ms/step - loss: 0.0016\n",
      "Epoch 110/130\n",
      "40/40 [==============================] - 4s 97ms/step - loss: 0.0013\n",
      "Epoch 111/130\n",
      "40/40 [==============================] - 4s 98ms/step - loss: 0.0011\n",
      "Epoch 112/130\n",
      "40/40 [==============================] - 4s 97ms/step - loss: 0.0012\n",
      "Epoch 113/130\n",
      "40/40 [==============================] - 4s 96ms/step - loss: 0.0011\n",
      "Epoch 114/130\n",
      "40/40 [==============================] - 6s 159ms/step - loss: 0.0012\n",
      "Epoch 115/130\n",
      "40/40 [==============================] - 4s 98ms/step - loss: 0.0012\n",
      "Epoch 116/130\n",
      "40/40 [==============================] - 4s 97ms/step - loss: 0.0012\n",
      "Epoch 117/130\n",
      "40/40 [==============================] - 4s 97ms/step - loss: 0.0014\n",
      "Epoch 118/130\n",
      "40/40 [==============================] - 4s 98ms/step - loss: 9.9098e-04\n",
      "Epoch 119/130\n",
      "40/40 [==============================] - 4s 97ms/step - loss: 0.0010\n",
      "Epoch 120/130\n",
      "40/40 [==============================] - 4s 98ms/step - loss: 0.0017\n",
      "Epoch 121/130\n",
      "40/40 [==============================] - 4s 98ms/step - loss: 0.0016\n",
      "Epoch 122/130\n",
      "40/40 [==============================] - 4s 97ms/step - loss: 0.0014\n",
      "Epoch 123/130\n",
      "40/40 [==============================] - 4s 97ms/step - loss: 0.0011\n",
      "Epoch 124/130\n",
      "40/40 [==============================] - 4s 97ms/step - loss: 0.0012\n",
      "Epoch 125/130\n",
      "40/40 [==============================] - 4s 98ms/step - loss: 0.0011\n",
      "Epoch 126/130\n",
      "40/40 [==============================] - 4s 98ms/step - loss: 0.0012\n",
      "Epoch 127/130\n",
      "40/40 [==============================] - 4s 97ms/step - loss: 0.0015\n",
      "Epoch 128/130\n",
      "40/40 [==============================] - 4s 97ms/step - loss: 0.0011\n",
      "Epoch 129/130\n",
      "40/40 [==============================] - 6s 155ms/step - loss: 0.0011\n",
      "Epoch 130/130\n",
      "40/40 [==============================] - 4s 97ms/step - loss: 0.0010\n"
     ]
    },
    {
     "data": {
      "text/plain": [
       "<keras.callbacks.History at 0x7f5bf8951150>"
      ]
     },
     "execution_count": 52,
     "metadata": {},
     "output_type": "execute_result"
    }
   ],
   "source": [
    "# Train/Fit LSTM model\n",
    "# In forecasting, we don't validate, only FORECAST\n",
    "# So, no need EarlyStop; Not need validation_generator\n",
    "\n",
    "model.fit_generator(forecast_tsGenerator, epochs =130)"
   ]
  },
  {
   "cell_type": "markdown",
   "id": "2e470a6f",
   "metadata": {},
   "source": [
    "### Timeseries Forcast using LSTM Nerual Network: 07/01/2019 - 12/15/2019"
   ]
  },
  {
   "cell_type": "code",
   "execution_count": 53,
   "id": "f163698c",
   "metadata": {},
   "outputs": [
    {
     "name": "stdout",
     "output_type": "stream",
     "text": [
      "1/1 [==============================] - 0s 395ms/step\n",
      "1/1 [==============================] - 0s 31ms/step\n",
      "1/1 [==============================] - 0s 30ms/step\n",
      "1/1 [==============================] - 0s 29ms/step\n",
      "1/1 [==============================] - 0s 29ms/step\n",
      "1/1 [==============================] - 0s 30ms/step\n",
      "1/1 [==============================] - 0s 31ms/step\n",
      "1/1 [==============================] - 0s 32ms/step\n",
      "1/1 [==============================] - 0s 33ms/step\n",
      "1/1 [==============================] - 0s 33ms/step\n",
      "1/1 [==============================] - 0s 33ms/step\n",
      "1/1 [==============================] - 0s 32ms/step\n",
      "1/1 [==============================] - 0s 29ms/step\n",
      "1/1 [==============================] - 0s 31ms/step\n",
      "1/1 [==============================] - 0s 29ms/step\n",
      "1/1 [==============================] - 0s 34ms/step\n",
      "1/1 [==============================] - 0s 33ms/step\n",
      "1/1 [==============================] - 0s 34ms/step\n",
      "1/1 [==============================] - 0s 36ms/step\n",
      "1/1 [==============================] - 0s 31ms/step\n",
      "1/1 [==============================] - 0s 32ms/step\n",
      "1/1 [==============================] - 0s 31ms/step\n",
      "1/1 [==============================] - 0s 34ms/step\n",
      "1/1 [==============================] - 0s 29ms/step\n",
      "1/1 [==============================] - 0s 31ms/step\n",
      "1/1 [==============================] - 0s 33ms/step\n",
      "1/1 [==============================] - 0s 31ms/step\n",
      "1/1 [==============================] - 0s 33ms/step\n",
      "1/1 [==============================] - 0s 31ms/step\n",
      "1/1 [==============================] - 0s 30ms/step\n",
      "1/1 [==============================] - 0s 31ms/step\n",
      "1/1 [==============================] - 0s 29ms/step\n",
      "1/1 [==============================] - 0s 29ms/step\n",
      "1/1 [==============================] - 0s 31ms/step\n",
      "1/1 [==============================] - 0s 30ms/step\n",
      "1/1 [==============================] - 0s 32ms/step\n",
      "1/1 [==============================] - 0s 30ms/step\n",
      "1/1 [==============================] - 0s 30ms/step\n",
      "1/1 [==============================] - 0s 35ms/step\n",
      "1/1 [==============================] - 0s 33ms/step\n",
      "1/1 [==============================] - 0s 32ms/step\n",
      "1/1 [==============================] - 0s 30ms/step\n",
      "1/1 [==============================] - 0s 29ms/step\n",
      "1/1 [==============================] - 0s 30ms/step\n",
      "1/1 [==============================] - 0s 31ms/step\n",
      "1/1 [==============================] - 0s 30ms/step\n",
      "1/1 [==============================] - 0s 31ms/step\n",
      "1/1 [==============================] - 0s 31ms/step\n",
      "1/1 [==============================] - 0s 31ms/step\n",
      "1/1 [==============================] - 0s 30ms/step\n",
      "1/1 [==============================] - 0s 31ms/step\n",
      "1/1 [==============================] - 0s 29ms/step\n",
      "1/1 [==============================] - 0s 30ms/step\n",
      "1/1 [==============================] - 0s 32ms/step\n",
      "1/1 [==============================] - 0s 31ms/step\n",
      "1/1 [==============================] - 0s 34ms/step\n",
      "1/1 [==============================] - 0s 35ms/step\n",
      "1/1 [==============================] - 0s 32ms/step\n",
      "1/1 [==============================] - 0s 32ms/step\n",
      "1/1 [==============================] - 0s 32ms/step\n",
      "1/1 [==============================] - 0s 31ms/step\n",
      "1/1 [==============================] - 0s 29ms/step\n",
      "1/1 [==============================] - 0s 29ms/step\n",
      "1/1 [==============================] - 0s 33ms/step\n",
      "1/1 [==============================] - 0s 32ms/step\n",
      "1/1 [==============================] - 0s 32ms/step\n",
      "1/1 [==============================] - 0s 32ms/step\n",
      "1/1 [==============================] - 0s 31ms/step\n",
      "1/1 [==============================] - 0s 33ms/step\n",
      "1/1 [==============================] - 0s 34ms/step\n",
      "1/1 [==============================] - 0s 32ms/step\n",
      "1/1 [==============================] - 0s 32ms/step\n",
      "1/1 [==============================] - 0s 31ms/step\n",
      "1/1 [==============================] - 0s 30ms/step\n",
      "1/1 [==============================] - 0s 31ms/step\n",
      "1/1 [==============================] - 0s 32ms/step\n",
      "1/1 [==============================] - 0s 30ms/step\n",
      "1/1 [==============================] - 0s 32ms/step\n",
      "1/1 [==============================] - 0s 30ms/step\n",
      "1/1 [==============================] - 0s 33ms/step\n",
      "1/1 [==============================] - 0s 31ms/step\n",
      "1/1 [==============================] - 0s 31ms/step\n",
      "1/1 [==============================] - 0s 30ms/step\n",
      "1/1 [==============================] - 0s 29ms/step\n",
      "1/1 [==============================] - 0s 34ms/step\n",
      "1/1 [==============================] - 0s 34ms/step\n",
      "1/1 [==============================] - 0s 32ms/step\n",
      "1/1 [==============================] - 0s 32ms/step\n",
      "1/1 [==============================] - 0s 29ms/step\n",
      "1/1 [==============================] - 0s 31ms/step\n",
      "1/1 [==============================] - 0s 32ms/step\n",
      "1/1 [==============================] - 0s 31ms/step\n",
      "1/1 [==============================] - 0s 31ms/step\n",
      "1/1 [==============================] - 0s 29ms/step\n",
      "1/1 [==============================] - 0s 32ms/step\n",
      "1/1 [==============================] - 0s 31ms/step\n",
      "1/1 [==============================] - 0s 31ms/step\n",
      "1/1 [==============================] - 0s 35ms/step\n",
      "1/1 [==============================] - 0s 35ms/step\n",
      "1/1 [==============================] - 0s 34ms/step\n",
      "1/1 [==============================] - 0s 32ms/step\n",
      "1/1 [==============================] - 0s 34ms/step\n",
      "1/1 [==============================] - 0s 32ms/step\n",
      "1/1 [==============================] - 0s 33ms/step\n",
      "1/1 [==============================] - 0s 31ms/step\n",
      "1/1 [==============================] - 0s 31ms/step\n",
      "1/1 [==============================] - 0s 30ms/step\n",
      "1/1 [==============================] - 0s 30ms/step\n",
      "1/1 [==============================] - 0s 32ms/step\n",
      "1/1 [==============================] - 0s 30ms/step\n",
      "1/1 [==============================] - 0s 30ms/step\n",
      "1/1 [==============================] - 0s 31ms/step\n",
      "1/1 [==============================] - 0s 31ms/step\n",
      "1/1 [==============================] - 0s 31ms/step\n",
      "1/1 [==============================] - 0s 31ms/step\n",
      "1/1 [==============================] - 0s 33ms/step\n",
      "1/1 [==============================] - 0s 31ms/step\n"
     ]
    }
   ],
   "source": [
    "forecast = []\n",
    "\n",
    "# Set periods wit the sime span of forecasting\n",
    "# Let's forecast for the next 107 business days (07/01/2019 - 12/15/2019)\n",
    "periods = 117\n",
    "\n",
    "first_eval_batch = normalized_full_data[-length80:]\n",
    "current_batch = first_eval_batch.reshape((1, length80, n_features))\n",
    "\n",
    "for i in range(periods):\n",
    "    \n",
    "    # get prediction 1 time stamp ahead([0] is for grabbing just thenumber instead od [array])\n",
    "    current_pred = model.predict(current_batch)[0]\n",
    "    \n",
    "    # store prediction\n",
    "    forecast.append(current_pred)\n",
    "    \n",
    "    # update batch to now include prediction and drop the first value\n",
    "    current_batch = np.append(current_batch[:,1:,:],[[current_pred]],axis=1)\n",
    "    "
   ]
  },
  {
   "cell_type": "markdown",
   "id": "4fc9959a",
   "metadata": {},
   "source": [
    "### Inverse to Transform Normalized Data Back into True Values"
   ]
  },
  {
   "cell_type": "code",
   "execution_count": 54,
   "id": "c1a32dff",
   "metadata": {},
   "outputs": [
    {
     "data": {
      "text/plain": [
       "array([[1.28236703],\n",
       "       [1.27633794],\n",
       "       [1.26986711],\n",
       "       [1.26302083],\n",
       "       [1.25597956],\n",
       "       [1.24893638],\n",
       "       [1.24205448],\n",
       "       [1.23544233],\n",
       "       [1.22916407],\n",
       "       [1.22324377],\n",
       "       [1.21767981],\n",
       "       [1.21245102],\n",
       "       [1.20753248],\n",
       "       [1.20289645],\n",
       "       [1.19851568],\n",
       "       [1.19437273],\n",
       "       [1.19044988],\n",
       "       [1.18673464],\n",
       "       [1.18321467],\n",
       "       [1.17988432],\n",
       "       [1.17673437],\n",
       "       [1.17375212],\n",
       "       [1.1709312 ],\n",
       "       [1.16826177],\n",
       "       [1.1657367 ],\n",
       "       [1.1633446 ],\n",
       "       [1.16108047],\n",
       "       [1.15893797],\n",
       "       [1.15691006],\n",
       "       [1.15498826],\n",
       "       [1.15316747],\n",
       "       [1.1514424 ],\n",
       "       [1.14980694],\n",
       "       [1.14825474],\n",
       "       [1.14678156],\n",
       "       [1.14538452],\n",
       "       [1.14406026],\n",
       "       [1.14280558],\n",
       "       [1.14161616],\n",
       "       [1.14048867],\n",
       "       [1.13941696],\n",
       "       [1.13839833],\n",
       "       [1.13743207],\n",
       "       [1.13651498],\n",
       "       [1.1356459 ],\n",
       "       [1.13482187],\n",
       "       [1.13403987],\n",
       "       [1.13329839],\n",
       "       [1.13259167],\n",
       "       [1.13191931],\n",
       "       [1.13128208],\n",
       "       [1.13067735],\n",
       "       [1.13010604],\n",
       "       [1.12956387],\n",
       "       [1.12905046],\n",
       "       [1.12856369],\n",
       "       [1.12810045],\n",
       "       [1.12765965],\n",
       "       [1.12724151],\n",
       "       [1.12684286],\n",
       "       [1.12646275],\n",
       "       [1.12610006],\n",
       "       [1.12575349],\n",
       "       [1.12543439],\n",
       "       [1.12513105],\n",
       "       [1.12484388],\n",
       "       [1.12457001],\n",
       "       [1.12430894],\n",
       "       [1.12406229],\n",
       "       [1.12382712],\n",
       "       [1.12360375],\n",
       "       [1.12339127],\n",
       "       [1.1231896 ],\n",
       "       [1.12299861],\n",
       "       [1.1228178 ],\n",
       "       [1.12264626],\n",
       "       [1.12248399],\n",
       "       [1.12232945],\n",
       "       [1.12218239],\n",
       "       [1.12204215],\n",
       "       [1.1219089 ],\n",
       "       [1.12178362],\n",
       "       [1.1216645 ],\n",
       "       [1.12155144],\n",
       "       [1.12144424],\n",
       "       [1.12134241],\n",
       "       [1.12124569],\n",
       "       [1.12115391],\n",
       "       [1.12106683],\n",
       "       [1.12098424],\n",
       "       [1.12090569],\n",
       "       [1.1208312 ],\n",
       "       [1.12076067],\n",
       "       [1.12069358],\n",
       "       [1.12062994],\n",
       "       [1.12056943],\n",
       "       [1.12051207],\n",
       "       [1.12045766],\n",
       "       [1.12040599],\n",
       "       [1.12035703],\n",
       "       [1.12031044],\n",
       "       [1.12026617],\n",
       "       [1.12022423],\n",
       "       [1.12018437],\n",
       "       [1.12014667],\n",
       "       [1.12011072],\n",
       "       [1.12007684],\n",
       "       [1.12004454],\n",
       "       [1.12001391],\n",
       "       [1.11998477],\n",
       "       [1.11995717],\n",
       "       [1.11993099],\n",
       "       [1.11990605],\n",
       "       [1.11988248],\n",
       "       [1.11986008],\n",
       "       [1.11983884],\n",
       "       [1.11981868]])"
      ]
     },
     "execution_count": 54,
     "metadata": {},
     "output_type": "execute_result"
    }
   ],
   "source": [
    "forecast = full_scaler.inverse_transform(forecast)\n",
    "\n",
    "forecast"
   ]
  },
  {
   "cell_type": "code",
   "execution_count": 55,
   "id": "cc1b6fe5",
   "metadata": {},
   "outputs": [
    {
     "data": {
      "text/html": [
       "<div>\n",
       "<style scoped>\n",
       "    .dataframe tbody tr th:only-of-type {\n",
       "        vertical-align: middle;\n",
       "    }\n",
       "\n",
       "    .dataframe tbody tr th {\n",
       "        vertical-align: top;\n",
       "    }\n",
       "\n",
       "    .dataframe thead th {\n",
       "        text-align: right;\n",
       "    }\n",
       "</style>\n",
       "<table border=\"1\" class=\"dataframe\">\n",
       "  <thead>\n",
       "    <tr style=\"text-align: right;\">\n",
       "      <th></th>\n",
       "      <th>Close</th>\n",
       "    </tr>\n",
       "  </thead>\n",
       "  <tbody>\n",
       "    <tr>\n",
       "      <th>0</th>\n",
       "      <td>12.4125</td>\n",
       "    </tr>\n",
       "    <tr>\n",
       "      <th>1</th>\n",
       "      <td>12.3100</td>\n",
       "    </tr>\n",
       "    <tr>\n",
       "      <th>2</th>\n",
       "      <td>12.0425</td>\n",
       "    </tr>\n",
       "    <tr>\n",
       "      <th>3</th>\n",
       "      <td>11.0350</td>\n",
       "    </tr>\n",
       "    <tr>\n",
       "      <th>4</th>\n",
       "      <td>11.3375</td>\n",
       "    </tr>\n",
       "    <tr>\n",
       "      <th>...</th>\n",
       "      <td>...</td>\n",
       "    </tr>\n",
       "    <tr>\n",
       "      <th>1377</th>\n",
       "      <td>1.3425</td>\n",
       "    </tr>\n",
       "    <tr>\n",
       "      <th>1378</th>\n",
       "      <td>1.3625</td>\n",
       "    </tr>\n",
       "    <tr>\n",
       "      <th>1379</th>\n",
       "      <td>1.3675</td>\n",
       "    </tr>\n",
       "    <tr>\n",
       "      <th>1380</th>\n",
       "      <td>1.3850</td>\n",
       "    </tr>\n",
       "    <tr>\n",
       "      <th>1381</th>\n",
       "      <td>1.3675</td>\n",
       "    </tr>\n",
       "  </tbody>\n",
       "</table>\n",
       "<p>1382 rows × 1 columns</p>\n",
       "</div>"
      ],
      "text/plain": [
       "        Close\n",
       "0     12.4125\n",
       "1     12.3100\n",
       "2     12.0425\n",
       "3     11.0350\n",
       "4     11.3375\n",
       "...       ...\n",
       "1377   1.3425\n",
       "1378   1.3625\n",
       "1379   1.3675\n",
       "1380   1.3850\n",
       "1381   1.3675\n",
       "\n",
       "[1382 rows x 1 columns]"
      ]
     },
     "execution_count": 55,
     "metadata": {},
     "output_type": "execute_result"
    }
   ],
   "source": [
    "df"
   ]
  },
  {
   "cell_type": "markdown",
   "id": "c2b0d43f",
   "metadata": {},
   "source": [
    "### Creating new timestamp index with pandas: 07/01/2019 - 12/15/2019"
   ]
  },
  {
   "cell_type": "code",
   "execution_count": 56,
   "id": "75c0b07a",
   "metadata": {},
   "outputs": [],
   "source": [
    "# Calculate forecast index\n",
    "\n",
    "forecast_index = np.arange(1382, 1499, step=1)"
   ]
  },
  {
   "cell_type": "code",
   "execution_count": 57,
   "id": "f7944a86",
   "metadata": {},
   "outputs": [],
   "source": [
    "forecast_df = pd.DataFrame(data=forecast, index=forecast_index, columns=['Forecast'])"
   ]
  },
  {
   "cell_type": "code",
   "execution_count": 58,
   "id": "7b724bb2",
   "metadata": {},
   "outputs": [
    {
     "data": {
      "text/html": [
       "<div>\n",
       "<style scoped>\n",
       "    .dataframe tbody tr th:only-of-type {\n",
       "        vertical-align: middle;\n",
       "    }\n",
       "\n",
       "    .dataframe tbody tr th {\n",
       "        vertical-align: top;\n",
       "    }\n",
       "\n",
       "    .dataframe thead th {\n",
       "        text-align: right;\n",
       "    }\n",
       "</style>\n",
       "<table border=\"1\" class=\"dataframe\">\n",
       "  <thead>\n",
       "    <tr style=\"text-align: right;\">\n",
       "      <th></th>\n",
       "      <th>Forecast</th>\n",
       "    </tr>\n",
       "  </thead>\n",
       "  <tbody>\n",
       "    <tr>\n",
       "      <th>1382</th>\n",
       "      <td>1.282367</td>\n",
       "    </tr>\n",
       "    <tr>\n",
       "      <th>1383</th>\n",
       "      <td>1.276338</td>\n",
       "    </tr>\n",
       "    <tr>\n",
       "      <th>1384</th>\n",
       "      <td>1.269867</td>\n",
       "    </tr>\n",
       "    <tr>\n",
       "      <th>1385</th>\n",
       "      <td>1.263021</td>\n",
       "    </tr>\n",
       "    <tr>\n",
       "      <th>1386</th>\n",
       "      <td>1.255980</td>\n",
       "    </tr>\n",
       "    <tr>\n",
       "      <th>...</th>\n",
       "      <td>...</td>\n",
       "    </tr>\n",
       "    <tr>\n",
       "      <th>1494</th>\n",
       "      <td>1.119906</td>\n",
       "    </tr>\n",
       "    <tr>\n",
       "      <th>1495</th>\n",
       "      <td>1.119882</td>\n",
       "    </tr>\n",
       "    <tr>\n",
       "      <th>1496</th>\n",
       "      <td>1.119860</td>\n",
       "    </tr>\n",
       "    <tr>\n",
       "      <th>1497</th>\n",
       "      <td>1.119839</td>\n",
       "    </tr>\n",
       "    <tr>\n",
       "      <th>1498</th>\n",
       "      <td>1.119819</td>\n",
       "    </tr>\n",
       "  </tbody>\n",
       "</table>\n",
       "<p>117 rows × 1 columns</p>\n",
       "</div>"
      ],
      "text/plain": [
       "      Forecast\n",
       "1382  1.282367\n",
       "1383  1.276338\n",
       "1384  1.269867\n",
       "1385  1.263021\n",
       "1386  1.255980\n",
       "...        ...\n",
       "1494  1.119906\n",
       "1495  1.119882\n",
       "1496  1.119860\n",
       "1497  1.119839\n",
       "1498  1.119819\n",
       "\n",
       "[117 rows x 1 columns]"
      ]
     },
     "execution_count": 58,
     "metadata": {},
     "output_type": "execute_result"
    }
   ],
   "source": [
    "forecast_df"
   ]
  },
  {
   "cell_type": "markdown",
   "id": "00114418",
   "metadata": {},
   "source": [
    "### Plot the Forecast"
   ]
  },
  {
   "cell_type": "code",
   "execution_count": 59,
   "id": "4c79252e",
   "metadata": {},
   "outputs": [
    {
     "data": {
      "text/plain": [
       "<AxesSubplot:>"
      ]
     },
     "execution_count": 59,
     "metadata": {},
     "output_type": "execute_result"
    },
    {
     "data": {
      "image/png": "[encoded data removed]",
      "text/plain": [
       "<Figure size 640x480 with 1 Axes>"
      ]
     },
     "metadata": {},
     "output_type": "display_data"
    },
    {
     "data": {
      "image/png": "[encoded data removed]",
      "text/plain": [
       "<Figure size 640x480 with 1 Axes>"
      ]
     },
     "metadata": {},
     "output_type": "display_data"
    }
   ],
   "source": [
    "df.plot()\n",
    "forecast_df.plot()"
   ]
  },
  {
   "cell_type": "markdown",
   "id": "8d0c67ca",
   "metadata": {},
   "source": [
    "### Joining Pandas Plots"
   ]
  },
  {
   "cell_type": "code",
   "execution_count": 60,
   "id": "2bd3c782",
   "metadata": {},
   "outputs": [
    {
     "data": {
      "text/plain": [
       "<AxesSubplot:>"
      ]
     },
     "execution_count": 60,
     "metadata": {},
     "output_type": "execute_result"
    },
    {
     "data": {
      "image/png": "[encoded data removed]",
      "text/plain": [
       "<Figure size 1200x800 with 1 Axes>"
      ]
     },
     "metadata": {},
     "output_type": "display_data"
    }
   ],
   "source": [
    "ax = df.plot()\n",
    "forecast_df.plot(ax=ax, figsize=(12,8))"
   ]
  },
  {
   "cell_type": "code",
   "execution_count": 61,
   "id": "43d156c2",
   "metadata": {},
   "outputs": [],
   "source": [
    "dir_path_dataset_2 = 'GME7.1.2019_12.15.2019.csv'"
   ]
  },
  {
   "cell_type": "code",
   "execution_count": 62,
   "id": "c285880c",
   "metadata": {},
   "outputs": [],
   "source": [
    "df_ALL_JUL_DEC_2019 = pd.read_csv(dir_path_dataset_2)"
   ]
  },
  {
   "cell_type": "code",
   "execution_count": 63,
   "id": "afc5719e",
   "metadata": {},
   "outputs": [
    {
     "data": {
      "text/html": [
       "<div>\n",
       "<style scoped>\n",
       "    .dataframe tbody tr th:only-of-type {\n",
       "        vertical-align: middle;\n",
       "    }\n",
       "\n",
       "    .dataframe tbody tr th {\n",
       "        vertical-align: top;\n",
       "    }\n",
       "\n",
       "    .dataframe thead th {\n",
       "        text-align: right;\n",
       "    }\n",
       "</style>\n",
       "<table border=\"1\" class=\"dataframe\">\n",
       "  <thead>\n",
       "    <tr style=\"text-align: right;\">\n",
       "      <th></th>\n",
       "      <th>Date</th>\n",
       "      <th>Open</th>\n",
       "      <th>High</th>\n",
       "      <th>Low</th>\n",
       "      <th>Close</th>\n",
       "      <th>Adj Close</th>\n",
       "      <th>Volume</th>\n",
       "    </tr>\n",
       "  </thead>\n",
       "  <tbody>\n",
       "    <tr>\n",
       "      <th>0</th>\n",
       "      <td>7/1/2019</td>\n",
       "      <td>1.3825</td>\n",
       "      <td>1.3925</td>\n",
       "      <td>1.3350</td>\n",
       "      <td>1.3400</td>\n",
       "      <td>1.3400</td>\n",
       "      <td>17243200</td>\n",
       "    </tr>\n",
       "    <tr>\n",
       "      <th>1</th>\n",
       "      <td>7/2/2019</td>\n",
       "      <td>1.3375</td>\n",
       "      <td>1.3625</td>\n",
       "      <td>1.3300</td>\n",
       "      <td>1.3450</td>\n",
       "      <td>1.3450</td>\n",
       "      <td>22574000</td>\n",
       "    </tr>\n",
       "    <tr>\n",
       "      <th>2</th>\n",
       "      <td>7/3/2019</td>\n",
       "      <td>1.3525</td>\n",
       "      <td>1.3575</td>\n",
       "      <td>1.3175</td>\n",
       "      <td>1.3275</td>\n",
       "      <td>1.3275</td>\n",
       "      <td>10248400</td>\n",
       "    </tr>\n",
       "    <tr>\n",
       "      <th>3</th>\n",
       "      <td>7/5/2019</td>\n",
       "      <td>1.3250</td>\n",
       "      <td>1.4100</td>\n",
       "      <td>1.3175</td>\n",
       "      <td>1.3800</td>\n",
       "      <td>1.3800</td>\n",
       "      <td>51578400</td>\n",
       "    </tr>\n",
       "    <tr>\n",
       "      <th>4</th>\n",
       "      <td>7/8/2019</td>\n",
       "      <td>1.3750</td>\n",
       "      <td>1.3825</td>\n",
       "      <td>1.3550</td>\n",
       "      <td>1.3625</td>\n",
       "      <td>1.3625</td>\n",
       "      <td>26370800</td>\n",
       "    </tr>\n",
       "  </tbody>\n",
       "</table>\n",
       "</div>"
      ],
      "text/plain": [
       "       Date    Open    High     Low   Close  Adj Close    Volume\n",
       "0  7/1/2019  1.3825  1.3925  1.3350  1.3400     1.3400  17243200\n",
       "1  7/2/2019  1.3375  1.3625  1.3300  1.3450     1.3450  22574000\n",
       "2  7/3/2019  1.3525  1.3575  1.3175  1.3275     1.3275  10248400\n",
       "3  7/5/2019  1.3250  1.4100  1.3175  1.3800     1.3800  51578400\n",
       "4  7/8/2019  1.3750  1.3825  1.3550  1.3625     1.3625  26370800"
      ]
     },
     "execution_count": 63,
     "metadata": {},
     "output_type": "execute_result"
    }
   ],
   "source": [
    "df_ALL_JUL_DEC_2019.head()"
   ]
  },
  {
   "cell_type": "code",
   "execution_count": 64,
   "id": "f559378f",
   "metadata": {},
   "outputs": [],
   "source": [
    "df_JUL_DEC_2019 = df_ALL_JUL_DEC_2019.iloc[:,4:5]"
   ]
  },
  {
   "cell_type": "code",
   "execution_count": 65,
   "id": "3264c4b6",
   "metadata": {
    "scrolled": true
   },
   "outputs": [
    {
     "data": {
      "text/html": [
       "<div>\n",
       "<style scoped>\n",
       "    .dataframe tbody tr th:only-of-type {\n",
       "        vertical-align: middle;\n",
       "    }\n",
       "\n",
       "    .dataframe tbody tr th {\n",
       "        vertical-align: top;\n",
       "    }\n",
       "\n",
       "    .dataframe thead th {\n",
       "        text-align: right;\n",
       "    }\n",
       "</style>\n",
       "<table border=\"1\" class=\"dataframe\">\n",
       "  <thead>\n",
       "    <tr style=\"text-align: right;\">\n",
       "      <th></th>\n",
       "      <th>Close</th>\n",
       "    </tr>\n",
       "  </thead>\n",
       "  <tbody>\n",
       "    <tr>\n",
       "      <th>0</th>\n",
       "      <td>1.3400</td>\n",
       "    </tr>\n",
       "    <tr>\n",
       "      <th>1</th>\n",
       "      <td>1.3450</td>\n",
       "    </tr>\n",
       "    <tr>\n",
       "      <th>2</th>\n",
       "      <td>1.3275</td>\n",
       "    </tr>\n",
       "    <tr>\n",
       "      <th>3</th>\n",
       "      <td>1.3800</td>\n",
       "    </tr>\n",
       "    <tr>\n",
       "      <th>4</th>\n",
       "      <td>1.3625</td>\n",
       "    </tr>\n",
       "    <tr>\n",
       "      <th>...</th>\n",
       "      <td>...</td>\n",
       "    </tr>\n",
       "    <tr>\n",
       "      <th>112</th>\n",
       "      <td>1.5825</td>\n",
       "    </tr>\n",
       "    <tr>\n",
       "      <th>113</th>\n",
       "      <td>1.6275</td>\n",
       "    </tr>\n",
       "    <tr>\n",
       "      <th>114</th>\n",
       "      <td>1.3825</td>\n",
       "    </tr>\n",
       "    <tr>\n",
       "      <th>115</th>\n",
       "      <td>1.3950</td>\n",
       "    </tr>\n",
       "    <tr>\n",
       "      <th>116</th>\n",
       "      <td>1.3625</td>\n",
       "    </tr>\n",
       "  </tbody>\n",
       "</table>\n",
       "<p>117 rows × 1 columns</p>\n",
       "</div>"
      ],
      "text/plain": [
       "      Close\n",
       "0    1.3400\n",
       "1    1.3450\n",
       "2    1.3275\n",
       "3    1.3800\n",
       "4    1.3625\n",
       "..      ...\n",
       "112  1.5825\n",
       "113  1.6275\n",
       "114  1.3825\n",
       "115  1.3950\n",
       "116  1.3625\n",
       "\n",
       "[117 rows x 1 columns]"
      ]
     },
     "execution_count": 65,
     "metadata": {},
     "output_type": "execute_result"
    }
   ],
   "source": [
    "df_JUL_DEC_2019"
   ]
  },
  {
   "cell_type": "code",
   "execution_count": 66,
   "id": "23ebe7a1",
   "metadata": {},
   "outputs": [
    {
     "data": {
      "text/plain": [
       "<AxesSubplot:>"
      ]
     },
     "execution_count": 66,
     "metadata": {},
     "output_type": "execute_result"
    },
    {
     "data": {
      "image/png": "[encoded data removed]",
      "text/plain": [
       "<Figure size 640x480 with 1 Axes>"
      ]
     },
     "metadata": {},
     "output_type": "display_data"
    }
   ],
   "source": [
    "df_JUL_DEC_2019.plot()"
   ]
  },
  {
   "cell_type": "code",
   "execution_count": 67,
   "id": "8169646c",
   "metadata": {
    "scrolled": true
   },
   "outputs": [
    {
     "data": {
      "text/plain": [
       "array([1.28236703, 1.27633794, 1.26986711, 1.26302083, 1.25597956,\n",
       "       1.24893638, 1.24205448, 1.23544233, 1.22916407, 1.22324377,\n",
       "       1.21767981, 1.21245102, 1.20753248, 1.20289645, 1.19851568,\n",
       "       1.19437273, 1.19044988, 1.18673464, 1.18321467, 1.17988432,\n",
       "       1.17673437, 1.17375212, 1.1709312 , 1.16826177, 1.1657367 ,\n",
       "       1.1633446 , 1.16108047, 1.15893797, 1.15691006, 1.15498826,\n",
       "       1.15316747, 1.1514424 , 1.14980694, 1.14825474, 1.14678156,\n",
       "       1.14538452, 1.14406026, 1.14280558, 1.14161616, 1.14048867,\n",
       "       1.13941696, 1.13839833, 1.13743207, 1.13651498, 1.1356459 ,\n",
       "       1.13482187, 1.13403987, 1.13329839, 1.13259167, 1.13191931,\n",
       "       1.13128208, 1.13067735, 1.13010604, 1.12956387, 1.12905046,\n",
       "       1.12856369, 1.12810045, 1.12765965, 1.12724151, 1.12684286,\n",
       "       1.12646275, 1.12610006, 1.12575349, 1.12543439, 1.12513105,\n",
       "       1.12484388, 1.12457001, 1.12430894, 1.12406229, 1.12382712,\n",
       "       1.12360375, 1.12339127, 1.1231896 , 1.12299861, 1.1228178 ,\n",
       "       1.12264626, 1.12248399, 1.12232945, 1.12218239, 1.12204215,\n",
       "       1.1219089 , 1.12178362, 1.1216645 , 1.12155144, 1.12144424,\n",
       "       1.12134241, 1.12124569, 1.12115391, 1.12106683, 1.12098424,\n",
       "       1.12090569, 1.1208312 , 1.12076067, 1.12069358, 1.12062994,\n",
       "       1.12056943, 1.12051207, 1.12045766, 1.12040599, 1.12035703,\n",
       "       1.12031044, 1.12026617, 1.12022423, 1.12018437, 1.12014667,\n",
       "       1.12011072, 1.12007684, 1.12004454, 1.12001391, 1.11998477,\n",
       "       1.11995717, 1.11993099, 1.11990605, 1.11988248, 1.11986008,\n",
       "       1.11983884, 1.11981868])"
      ]
     },
     "execution_count": 67,
     "metadata": {},
     "output_type": "execute_result"
    }
   ],
   "source": [
    "forecast_df['Forecast'].values"
   ]
  },
  {
   "cell_type": "code",
   "execution_count": 68,
   "id": "34b78992",
   "metadata": {},
   "outputs": [],
   "source": [
    "df_JUL_DEC_2019['Forecast'] = forecast_df['Forecast'].values"
   ]
  },
  {
   "cell_type": "code",
   "execution_count": 69,
   "id": "efe95f3f",
   "metadata": {},
   "outputs": [
    {
     "data": {
      "text/html": [
       "<div>\n",
       "<style scoped>\n",
       "    .dataframe tbody tr th:only-of-type {\n",
       "        vertical-align: middle;\n",
       "    }\n",
       "\n",
       "    .dataframe tbody tr th {\n",
       "        vertical-align: top;\n",
       "    }\n",
       "\n",
       "    .dataframe thead th {\n",
       "        text-align: right;\n",
       "    }\n",
       "</style>\n",
       "<table border=\"1\" class=\"dataframe\">\n",
       "  <thead>\n",
       "    <tr style=\"text-align: right;\">\n",
       "      <th></th>\n",
       "      <th>Close</th>\n",
       "      <th>Forecast</th>\n",
       "    </tr>\n",
       "  </thead>\n",
       "  <tbody>\n",
       "    <tr>\n",
       "      <th>0</th>\n",
       "      <td>1.3400</td>\n",
       "      <td>1.282367</td>\n",
       "    </tr>\n",
       "    <tr>\n",
       "      <th>1</th>\n",
       "      <td>1.3450</td>\n",
       "      <td>1.276338</td>\n",
       "    </tr>\n",
       "    <tr>\n",
       "      <th>2</th>\n",
       "      <td>1.3275</td>\n",
       "      <td>1.269867</td>\n",
       "    </tr>\n",
       "    <tr>\n",
       "      <th>3</th>\n",
       "      <td>1.3800</td>\n",
       "      <td>1.263021</td>\n",
       "    </tr>\n",
       "    <tr>\n",
       "      <th>4</th>\n",
       "      <td>1.3625</td>\n",
       "      <td>1.255980</td>\n",
       "    </tr>\n",
       "    <tr>\n",
       "      <th>...</th>\n",
       "      <td>...</td>\n",
       "      <td>...</td>\n",
       "    </tr>\n",
       "    <tr>\n",
       "      <th>112</th>\n",
       "      <td>1.5825</td>\n",
       "      <td>1.119906</td>\n",
       "    </tr>\n",
       "    <tr>\n",
       "      <th>113</th>\n",
       "      <td>1.6275</td>\n",
       "      <td>1.119882</td>\n",
       "    </tr>\n",
       "    <tr>\n",
       "      <th>114</th>\n",
       "      <td>1.3825</td>\n",
       "      <td>1.119860</td>\n",
       "    </tr>\n",
       "    <tr>\n",
       "      <th>115</th>\n",
       "      <td>1.3950</td>\n",
       "      <td>1.119839</td>\n",
       "    </tr>\n",
       "    <tr>\n",
       "      <th>116</th>\n",
       "      <td>1.3625</td>\n",
       "      <td>1.119819</td>\n",
       "    </tr>\n",
       "  </tbody>\n",
       "</table>\n",
       "<p>117 rows × 2 columns</p>\n",
       "</div>"
      ],
      "text/plain": [
       "      Close  Forecast\n",
       "0    1.3400  1.282367\n",
       "1    1.3450  1.276338\n",
       "2    1.3275  1.269867\n",
       "3    1.3800  1.263021\n",
       "4    1.3625  1.255980\n",
       "..      ...       ...\n",
       "112  1.5825  1.119906\n",
       "113  1.6275  1.119882\n",
       "114  1.3825  1.119860\n",
       "115  1.3950  1.119839\n",
       "116  1.3625  1.119819\n",
       "\n",
       "[117 rows x 2 columns]"
      ]
     },
     "execution_count": 69,
     "metadata": {},
     "output_type": "execute_result"
    }
   ],
   "source": [
    "df_JUL_DEC_2019"
   ]
  },
  {
   "cell_type": "code",
   "execution_count": 70,
   "id": "c24afb6b",
   "metadata": {},
   "outputs": [
    {
     "data": {
      "text/plain": [
       "<AxesSubplot:>"
      ]
     },
     "execution_count": 70,
     "metadata": {},
     "output_type": "execute_result"
    },
    {
     "data": {
      "image/png": "[encoded data removed]",
      "text/plain": [
       "<Figure size 640x480 with 1 Axes>"
      ]
     },
     "metadata": {},
     "output_type": "display_data"
    }
   ],
   "source": [
    "df_JUL_DEC_2019.plot()"
   ]
  },
  {
   "cell_type": "code",
   "execution_count": null,
   "id": "caf4f60d",
   "metadata": {},
   "outputs": [],
   "source": []
  }
 ],
 "metadata": {
  "kernelspec": {
   "display_name": "Python 3 (ipykernel)",
   "language": "python",
   "name": "python3"
  },
  "language_info": {
   "codemirror_mode": {
    "name": "ipython",
    "version": 3
   },
   "file_extension": ".py",
   "mimetype": "text/x-python",
   "name": "python",
   "nbconvert_exporter": "python",
   "pygments_lexer": "ipython3",
   "version": "3.7.12"
  }
 },
 "nbformat": 4,
 "nbformat_minor": 5
}
